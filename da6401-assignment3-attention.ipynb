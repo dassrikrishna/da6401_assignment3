{
 "cells": [
  {
   "cell_type": "markdown",
   "metadata": {},
   "source": [
    "# Install wandb"
   ]
  },
  {
   "cell_type": "code",
   "execution_count": 1,
   "metadata": {
    "execution": {
     "iopub.execute_input": "2025-05-19T19:32:51.763684Z",
     "iopub.status.busy": "2025-05-19T19:32:51.763426Z",
     "iopub.status.idle": "2025-05-19T19:33:00.700222Z",
     "shell.execute_reply": "2025-05-19T19:33:00.695784Z",
     "shell.execute_reply.started": "2025-05-19T19:32:51.763658Z"
    },
    "trusted": true
   },
   "outputs": [
    {
     "name": "stdout",
     "output_type": "stream",
     "text": [
      "Collecting wandb\n",
      "  Downloading wandb-0.19.11-py3-none-manylinux_2_17_x86_64.manylinux2014_x86_64.whl (21.4 MB)\n",
      "\u001b[2K     \u001b[90m━━━━━━━━━━━━━━━━━━━━━━━━━━━━━━━━━━━━━━━━\u001b[0m \u001b[32m21.4/21.4 MB\u001b[0m \u001b[31m53.4 MB/s\u001b[0m eta \u001b[36m0:00:00\u001b[0m00:01\u001b[0m00:01\u001b[0m\n",
      "\u001b[?25hRequirement already satisfied: typing-extensions<5,>=4.4 in /usr/local/lib/python3.10/site-packages (from wandb) (4.13.2)\n",
      "Requirement already satisfied: setuptools in /usr/local/lib/python3.10/site-packages (from wandb) (80.3.1)\n",
      "Requirement already satisfied: pyyaml in /usr/local/lib/python3.10/site-packages (from wandb) (6.0.2)\n",
      "Collecting setproctitle\n",
      "  Downloading setproctitle-1.3.6-cp310-cp310-manylinux_2_5_x86_64.manylinux1_x86_64.manylinux_2_17_x86_64.manylinux2014_x86_64.whl (30 kB)\n",
      "Requirement already satisfied: click!=8.0.0,>=7.1 in /usr/local/lib/python3.10/site-packages (from wandb) (8.1.8)\n",
      "Requirement already satisfied: protobuf!=4.21.0,!=5.28.0,<7,>=3.19.0 in /usr/local/lib/python3.10/site-packages (from wandb) (5.29.4)\n",
      "Requirement already satisfied: platformdirs in /usr/local/lib/python3.10/site-packages (from wandb) (4.3.8)\n",
      "Requirement already satisfied: requests<3,>=2.0.0 in /usr/local/lib/python3.10/site-packages (from wandb) (2.32.3)\n",
      "Collecting gitpython!=3.1.29,>=1.0.0\n",
      "  Downloading GitPython-3.1.44-py3-none-any.whl (207 kB)\n",
      "\u001b[2K     \u001b[90m━━━━━━━━━━━━━━━━━━━━━━━━━━━━━━━━━━━━━━━\u001b[0m \u001b[32m207.6/207.6 kB\u001b[0m \u001b[31m4.9 MB/s\u001b[0m eta \u001b[36m0:00:00\u001b[0m00:01\u001b[0m\n",
      "\u001b[?25hRequirement already satisfied: psutil>=5.0.0 in /usr/local/lib/python3.10/site-packages (from wandb) (7.0.0)\n",
      "Requirement already satisfied: pydantic<3 in /usr/local/lib/python3.10/site-packages (from wandb) (2.11.4)\n",
      "Collecting docker-pycreds>=0.4.0\n",
      "  Downloading docker_pycreds-0.4.0-py2.py3-none-any.whl (9.0 kB)\n",
      "Collecting sentry-sdk>=2.0.0\n",
      "  Downloading sentry_sdk-2.29.1-py2.py3-none-any.whl (341 kB)\n",
      "\u001b[2K     \u001b[90m━━━━━━━━━━━━━━━━━━━━━━━━━━━━━━━━━━━━━━\u001b[0m \u001b[32m341.6/341.6 kB\u001b[0m \u001b[31m27.4 MB/s\u001b[0m eta \u001b[36m0:00:00\u001b[0m\n",
      "\u001b[?25hRequirement already satisfied: six>=1.4.0 in /usr/local/lib/python3.10/site-packages (from docker-pycreds>=0.4.0->wandb) (1.17.0)\n",
      "Collecting gitdb<5,>=4.0.1\n",
      "  Downloading gitdb-4.0.12-py3-none-any.whl (62 kB)\n",
      "\u001b[2K     \u001b[90m━━━━━━━━━━━━━━━━━━━━━━━━━━━━━━━━━━━━━━━━\u001b[0m \u001b[32m62.8/62.8 kB\u001b[0m \u001b[31m6.3 MB/s\u001b[0m eta \u001b[36m0:00:00\u001b[0m\n",
      "\u001b[?25hRequirement already satisfied: annotated-types>=0.6.0 in /usr/local/lib/python3.10/site-packages (from pydantic<3->wandb) (0.7.0)\n",
      "Requirement already satisfied: typing-inspection>=0.4.0 in /usr/local/lib/python3.10/site-packages (from pydantic<3->wandb) (0.4.0)\n",
      "Requirement already satisfied: pydantic-core==2.33.2 in /usr/local/lib/python3.10/site-packages (from pydantic<3->wandb) (2.33.2)\n",
      "Requirement already satisfied: charset-normalizer<4,>=2 in /usr/local/lib/python3.10/site-packages (from requests<3,>=2.0.0->wandb) (3.4.2)\n",
      "Requirement already satisfied: urllib3<3,>=1.21.1 in /usr/local/lib/python3.10/site-packages (from requests<3,>=2.0.0->wandb) (2.4.0)\n",
      "Requirement already satisfied: idna<4,>=2.5 in /usr/local/lib/python3.10/site-packages (from requests<3,>=2.0.0->wandb) (3.10)\n",
      "Requirement already satisfied: certifi>=2017.4.17 in /usr/local/lib/python3.10/site-packages (from requests<3,>=2.0.0->wandb) (2025.4.26)\n",
      "Collecting smmap<6,>=3.0.1\n",
      "  Downloading smmap-5.0.2-py3-none-any.whl (24 kB)\n",
      "Installing collected packages: smmap, setproctitle, sentry-sdk, docker-pycreds, gitdb, gitpython, wandb\n",
      "Successfully installed docker-pycreds-0.4.0 gitdb-4.0.12 gitpython-3.1.44 sentry-sdk-2.29.1 setproctitle-1.3.6 smmap-5.0.2 wandb-0.19.11\n",
      "\u001b[33mWARNING: Running pip as the 'root' user can result in broken permissions and conflicting behaviour with the system package manager. It is recommended to use a virtual environment instead: https://pip.pypa.io/warnings/venv\u001b[0m\u001b[33m\n",
      "\u001b[0m\n",
      "\u001b[1m[\u001b[0m\u001b[34;49mnotice\u001b[0m\u001b[1;39;49m]\u001b[0m\u001b[39;49m A new release of pip is available: \u001b[0m\u001b[31;49m23.0.1\u001b[0m\u001b[39;49m -> \u001b[0m\u001b[32;49m25.1.1\u001b[0m\n",
      "\u001b[1m[\u001b[0m\u001b[34;49mnotice\u001b[0m\u001b[1;39;49m]\u001b[0m\u001b[39;49m To update, run: \u001b[0m\u001b[32;49mpip install --upgrade pip\u001b[0m\n",
      "Note: you may need to restart the kernel to use updated packages.\n"
     ]
    }
   ],
   "source": [
    "pip install wandb"
   ]
  },
  {
   "cell_type": "markdown",
   "metadata": {},
   "source": [
    "# 1. Imports and Initial Setup\n",
    "\n",
    "Importing the necessary libraries and setting a global random seed for reproducibility.\n"
   ]
  },
  {
   "cell_type": "code",
   "execution_count": 3,
   "metadata": {
    "execution": {
     "iopub.execute_input": "2025-05-19T19:33:53.778492Z",
     "iopub.status.busy": "2025-05-19T19:33:53.777871Z",
     "iopub.status.idle": "2025-05-19T19:33:53.792186Z",
     "shell.execute_reply": "2025-05-19T19:33:53.788671Z",
     "shell.execute_reply.started": "2025-05-19T19:33:53.778457Z"
    },
    "trusted": true
   },
   "outputs": [
    {
     "name": "stdout",
     "output_type": "stream",
     "text": [
      "Using device: cpu\n"
     ]
    }
   ],
   "source": [
    "import os\n",
    "import random\n",
    "import numpy as np\n",
    "import pandas as pd\n",
    "import wandb\n",
    "import torch\n",
    "import torch.nn as nn\n",
    "import torch.nn.functional as F\n",
    "from torch.utils.data import Dataset, DataLoader\n",
    "import IPython.display as display\n",
    "import seaborn as sns\n",
    "import matplotlib.pyplot as plt\n",
    "from sklearn.metrics import confusion_matrix\n",
    "import matplotlib.font_manager as fm\n",
    "import warnings\n",
    "\n",
    "# Set seed for reproducibility\n",
    "SEED = 42\n",
    "random.seed(SEED)\n",
    "np.random.seed(SEED)\n",
    "torch.manual_seed(SEED)\n",
    "torch.cuda.manual_seed_all(SEED)\n",
    "torch.backends.cudnn.deterministic = True\n",
    "\n",
    "# Device configuration\n",
    "device = torch.device(\"cuda\" if torch.cuda.is_available() else \"cpu\")\n",
    "print(f\"Using device: {device}\")\n"
   ]
  },
  {
   "cell_type": "markdown",
   "metadata": {},
   "source": [
    "# 2. Data Preprocessing\n",
    "\n",
    "Load the dataset, build vocabularies, and define helper functions for sequence conversion."
   ]
  },
  {
   "cell_type": "code",
   "execution_count": 4,
   "metadata": {
    "execution": {
     "iopub.execute_input": "2025-05-19T19:33:58.352503Z",
     "iopub.status.busy": "2025-05-19T19:33:58.352154Z",
     "iopub.status.idle": "2025-05-19T19:33:58.615102Z",
     "shell.execute_reply": "2025-05-19T19:33:58.609448Z",
     "shell.execute_reply.started": "2025-05-19T19:33:58.352477Z"
    },
    "trusted": true
   },
   "outputs": [
    {
     "name": "stdout",
     "output_type": "stream",
     "text": [
      "Train: 94546, Val: 9279, Test: 9228\n",
      "Input vocab: 29, Target vocab: 63\n",
      "Max input length: 22, Max target length: 24\n"
     ]
    }
   ],
   "source": [
    "# Load data\n",
    "def load_data(file_path):\n",
    "    data = []\n",
    "    with open(file_path, encoding='utf-8') as f:\n",
    "        for line in f:\n",
    "            line = line.strip()\n",
    "            if not line:\n",
    "                continue\n",
    "            parts = line.split('\\t')\n",
    "            if len(parts) >= 2:\n",
    "                bengali, latin = parts[0], parts[1]\n",
    "                data.append((latin, bengali))\n",
    "    return data\n",
    "\n",
    "# Special tokens\n",
    "PAD_TOKEN = '<pad>'\n",
    "SOS_TOKEN = '<sos>'\n",
    "EOS_TOKEN = '<eos>'\n",
    "\n",
    "# File paths \n",
    "train_path = '/kaggle/input/dakshina-dataset-v1-0/bn/lexicons/bn.translit.sampled.train.tsv'\n",
    "val_path = '/kaggle/input/dakshina-dataset-v1-0/bn/lexicons/bn.translit.sampled.dev.tsv'\n",
    "test_path = '/kaggle/input/dakshina-dataset-v1-0/bn/lexicons/bn.translit.sampled.test.tsv'\n",
    "\n",
    "train_data = load_data(train_path)\n",
    "val_data = load_data(val_path)\n",
    "test_data = load_data(test_path)\n",
    "\n",
    "print(f\"Train: {len(train_data)}, Val: {len(val_data)}, Test: {len(test_data)}\")\n",
    "\n",
    "def build_vocab(sequences):\n",
    "    chars = sorted(set(\"\".join(sequences)))\n",
    "    vocab = [PAD_TOKEN, SOS_TOKEN, EOS_TOKEN] + chars\n",
    "    char2idx = {char: idx for idx, char in enumerate(vocab)}\n",
    "    idx2char = {idx: char for char, idx in char2idx.items()}\n",
    "    return char2idx, idx2char\n",
    "\n",
    "input_texts = [x[0] for x in train_data]\n",
    "target_texts = [x[1] for x in train_data]\n",
    "\n",
    "input_char2idx, input_idx2char = build_vocab(input_texts)\n",
    "target_char2idx, target_idx2char = build_vocab(target_texts)\n",
    "\n",
    "INPUT_DIM = len(input_char2idx)\n",
    "OUTPUT_DIM = len(target_char2idx)\n",
    "PAD_IDX = target_char2idx[PAD_TOKEN]\n",
    "SOS_IDX = target_char2idx[SOS_TOKEN]\n",
    "EOS_IDX = target_char2idx[EOS_TOKEN]\n",
    "max_input_len = max(len(seq) for seq in input_texts)\n",
    "max_target_len = max(len(seq) for seq in target_texts) + 2  # for <sos> and <eos>\n",
    "\n",
    "print(f\"Input vocab: {INPUT_DIM}, Target vocab: {OUTPUT_DIM}\")\n",
    "print(f\"Max input length: {max_input_len}, Max target length: {max_target_len}\")\n"
   ]
  },
  {
   "cell_type": "markdown",
   "metadata": {},
   "source": [
    "# 3. Dataset and DataLoader\n",
    "\n",
    "Define a PyTorch `Dataset` class to handle the sequence-to-sequence data, and instantiate `DataLoader`s for train, validation, and test sets.\n"
   ]
  },
  {
   "cell_type": "code",
   "execution_count": 5,
   "metadata": {
    "execution": {
     "iopub.execute_input": "2025-05-19T19:34:03.603297Z",
     "iopub.status.busy": "2025-05-19T19:34:03.602944Z",
     "iopub.status.idle": "2025-05-19T19:34:03.624952Z",
     "shell.execute_reply": "2025-05-19T19:34:03.619001Z",
     "shell.execute_reply.started": "2025-05-19T19:34:03.603269Z"
    },
    "trusted": true
   },
   "outputs": [],
   "source": [
    "# Dataset class\n",
    "class TransliterationDataset(Dataset):\n",
    "    def __init__(self, data, input_char2idx, target_char2idx, max_input_len, max_target_len):\n",
    "        self.data = data\n",
    "        self.input_char2idx = input_char2idx\n",
    "        self.target_char2idx = target_char2idx\n",
    "        self.max_input_len = max_input_len\n",
    "        self.max_target_len = max_target_len\n",
    "\n",
    "    def __len__(self):\n",
    "        return len(self.data)\n",
    "\n",
    "    def encode_input(self, seq):\n",
    "        idxs = [self.input_char2idx.get(char, self.input_char2idx[PAD_TOKEN]) for char in seq]\n",
    "        padding = [self.input_char2idx[PAD_TOKEN]] * (self.max_input_len - len(idxs))\n",
    "        return torch.tensor(idxs + padding, dtype=torch.long)\n",
    "\n",
    "    def encode_target(self, seq):\n",
    "        full_seq = [SOS_TOKEN] + list(seq) + [EOS_TOKEN]\n",
    "        idxs = [self.target_char2idx.get(char, self.target_char2idx[PAD_TOKEN]) for char in full_seq]\n",
    "        padding = [self.target_char2idx[PAD_TOKEN]] * (self.max_target_len - len(idxs))\n",
    "        return torch.tensor(idxs + padding, dtype=torch.long)\n",
    "\n",
    "    def __getitem__(self, idx):\n",
    "        latin, bengali = self.data[idx]\n",
    "        return self.encode_input(latin), self.encode_target(bengali)\n",
    "\n",
    "batch_size = 64\n",
    "train_dataset = TransliterationDataset(train_data, input_char2idx, target_char2idx, max_input_len, max_target_len)\n",
    "val_dataset = TransliterationDataset(val_data, input_char2idx, target_char2idx, max_input_len, max_target_len)\n",
    "test_dataset = TransliterationDataset(test_data, input_char2idx, target_char2idx, max_input_len, max_target_len)\n",
    "\n",
    "train_loader = DataLoader(train_dataset, batch_size=batch_size, shuffle=True)\n",
    "val_loader = DataLoader(val_dataset, batch_size=batch_size)\n",
    "test_loader = DataLoader(test_dataset, batch_size=batch_size)\n"
   ]
  },
  {
   "cell_type": "markdown",
   "metadata": {},
   "source": [
    "# 4. Model Architecture with Attention\n",
    "\n",
    "Define the Encoder,Attention, Decoder, and Seq2Seq (sequence-to-sequence) models, supporting multiple cell types (RNN, GRU, LSTM) and beam search decoding.\n"
   ]
  },
  {
   "cell_type": "code",
   "execution_count": 6,
   "metadata": {
    "execution": {
     "iopub.execute_input": "2025-05-19T19:34:07.789626Z",
     "iopub.status.busy": "2025-05-19T19:34:07.789244Z",
     "iopub.status.idle": "2025-05-19T19:34:07.825418Z",
     "shell.execute_reply": "2025-05-19T19:34:07.817845Z",
     "shell.execute_reply.started": "2025-05-19T19:34:07.789598Z"
    },
    "trusted": true
   },
   "outputs": [],
   "source": [
    "# Encoder\n",
    "class Encoder(nn.Module):\n",
    "    def __init__(self, input_size, embed_size, hidden_size, layers=1, dropout=0.5, cell='gru'):\n",
    "        super().__init__()\n",
    "        self.embedding = nn.Embedding(input_size, embed_size)\n",
    "        self.dropout = nn.Dropout(dropout)\n",
    "        rnn = {'lstm': nn.LSTM, 'gru': nn.GRU, 'rnn': nn.RNN}[cell]\n",
    "        self.rnn = rnn(embed_size, hidden_size, layers, dropout=dropout if layers > 1 else 0, batch_first=True)\n",
    "        self.cell = cell\n",
    "        self.hidden_size = hidden_size\n",
    "        self.layers = layers\n",
    "\n",
    "    def forward(self, x):\n",
    "        embedded = self.dropout(self.embedding(x))\n",
    "        outputs, hidden = self.rnn(embedded)               \n",
    "        return outputs, hidden                             \n",
    "\n",
    "class Attention(nn.Module):\n",
    "    def __init__(self, enc_hidden_dim, dec_hidden_dim):\n",
    "        super().__init__()\n",
    "        self.attn = nn.Linear(enc_hidden_dim + dec_hidden_dim, dec_hidden_dim)\n",
    "        self.v = nn.Parameter(torch.rand(dec_hidden_dim))\n",
    "\n",
    "    def forward(self, hidden, encoder_outputs, mask=None):\n",
    "        src_len = encoder_outputs.size(1)\n",
    "        h = hidden.unsqueeze(1).repeat(1, src_len, 1)      \n",
    "        energy = torch.tanh(self.attn(torch.cat((h, encoder_outputs), dim=2)))\n",
    "        energy = energy @ self.v\n",
    "        if mask is not None:\n",
    "            energy = energy.masked_fill(mask == 0, -1e10)\n",
    "        attn_weights = F.softmax(energy, dim=1)        \n",
    "        return attn_weights\n",
    "\n",
    "class Decoder(nn.Module):\n",
    "    def __init__(self, output_size, embed_size, enc_hidden_size, dec_hidden_size, attention, layers=1, dropout=0.5, cell='gru'):\n",
    "        super().__init__()\n",
    "        self.output_size = output_size\n",
    "        self.embedding = nn.Embedding(output_size, embed_size)\n",
    "        self.dropout = nn.Dropout(dropout)\n",
    "        self.attention = attention\n",
    "        self.celltype = cell\n",
    "        rnn = {'lstm': nn.LSTM, 'gru': nn.GRU, 'rnn': nn.RNN}[cell]\n",
    "        self.rnn = rnn(embed_size + enc_hidden_size, dec_hidden_size, layers, dropout=dropout if layers>1 else 0, batch_first=True)\n",
    "        self.fc_out = nn.Linear(enc_hidden_size + dec_hidden_size + embed_size, output_size)\n",
    "\n",
    "    def forward(self, input, hidden, encoder_outputs, mask=None):\n",
    "        input = input.unsqueeze(1)                                   \n",
    "        embed = self.dropout(self.embedding(input))                  \n",
    "        # Attention uses only top layer hidden\n",
    "        if isinstance(hidden, tuple):   \n",
    "            dec_hidden = hidden[0][-1]  \n",
    "        else:                           \n",
    "            dec_hidden = hidden[-1]\n",
    "        attn_weights = self.attention(dec_hidden, encoder_outputs, mask)    \n",
    "        attn_weights = attn_weights.unsqueeze(1)                     \n",
    "        context = torch.bmm(attn_weights, encoder_outputs)           \n",
    "        rnn_input = torch.cat((embed, context), dim=2)               \n",
    "        output, hidden = self.rnn(rnn_input, hidden)                 \n",
    "        output = output.squeeze(1)                                   \n",
    "        context = context.squeeze(1)                                 \n",
    "        embed = embed.squeeze(1)                                     \n",
    "        out = self.fc_out(torch.cat((output, context, embed), dim=1))\n",
    "        return out, hidden, attn_weights.squeeze(1)\n",
    "\n",
    "    def beam_search(self, hidden, encoder_outputs, beam_width, sos_idx, eos_idx, max_len, device):\n",
    "        sequences = [([sos_idx], hidden, 0.0)]\n",
    "        for _ in range(max_len):\n",
    "            candidates = []\n",
    "            for seq, h, score in sequences:\n",
    "                if seq[-1] == eos_idx:\n",
    "                    candidates.append((seq, h, score))\n",
    "                    continue\n",
    "                input_token = torch.tensor([seq[-1]], device=device)\n",
    "                out, h_new, _ = self.forward(input_token, h, encoder_outputs)\n",
    "                log_probs = F.log_softmax(out, dim=1).squeeze(0)\n",
    "                top_log_probs, top_tokens = torch.topk(log_probs, beam_width)\n",
    "                for i in range(beam_width):\n",
    "                    candidate = seq + [top_tokens[i].item()]\n",
    "                    candidate_score = score + top_log_probs[i].item()\n",
    "                    candidates.append((candidate, h_new, candidate_score))\n",
    "            sequences = sorted(candidates, key=lambda x: x[2], reverse=True)[:beam_width]\n",
    "            if all(seq[-1] == eos_idx for seq,_,_ in sequences):\n",
    "                break\n",
    "        return sequences[0][0], sequences[0][2]\n",
    "\n",
    "def adjust_hidden_state(enc_hidden, enc_layers, dec_layers, hidden_size, cell):\n",
    "    def pad_tensor(tensor):\n",
    "        if dec_layers == enc_layers:\n",
    "            return tensor\n",
    "        batch_size = tensor.size(1)\n",
    "        device = tensor.device\n",
    "        extra = torch.zeros(abs(dec_layers - enc_layers), batch_size, hidden_size, device=device)\n",
    "        return torch.cat([tensor, extra], dim=0) if dec_layers > enc_layers else tensor[-dec_layers:]\n",
    "    if cell == 'lstm':\n",
    "        return (pad_tensor(enc_hidden[0]), pad_tensor(enc_hidden[1]))\n",
    "    return pad_tensor(enc_hidden)\n",
    "\n",
    "class Seq2Seq(nn.Module):\n",
    "    def __init__(self, input_size, output_size, embed_size, hidden_size, enc_layers=1, dec_layers=1, dropout=0.3, cell='gru'):\n",
    "        super().__init__()\n",
    "        self.encoder = Encoder(input_size, embed_size, hidden_size, enc_layers, dropout, cell)\n",
    "        self.attention = Attention(hidden_size, hidden_size)\n",
    "        self.decoder = Decoder(output_size, embed_size, hidden_size, hidden_size, self.attention, dec_layers, dropout, cell)\n",
    "        self.enc_layers = enc_layers\n",
    "        self.dec_layers = dec_layers\n",
    "        self.hidden_size = hidden_size\n",
    "        self.cell = cell\n",
    "        self.output_size = output_size\n",
    "\n",
    "    def forward(self, src, trg, teacher_forcing_ratio=0.5):\n",
    "        batch_size, trg_len = trg.size()\n",
    "        outputs = torch.zeros(batch_size, trg_len, self.output_size, device=src.device)\n",
    "        encoder_outputs, enc_hidden = self.encoder(src)     \n",
    "        dec_hidden = adjust_hidden_state(enc_hidden, self.enc_layers, self.dec_layers, self.hidden_size, self.cell)\n",
    "        dec_input = trg[:, 0]\n",
    "        for t in range(1, trg_len):\n",
    "            output, dec_hidden, _ = self.decoder(dec_input, dec_hidden, encoder_outputs)\n",
    "            outputs[:, t] = output\n",
    "            top1 = output.argmax(1)\n",
    "            dec_input = trg[:, t] if random.random() < teacher_forcing_ratio else top1\n",
    "        return outputs\n",
    "\n",
    "    def inference_beam_search(self, src, beam_width, sos_idx, eos_idx, max_len, device):\n",
    "        self.eval()\n",
    "        with torch.no_grad():\n",
    "            encoder_outputs, enc_hidden = self.encoder(src)\n",
    "            dec_hidden = adjust_hidden_state(enc_hidden, self.enc_layers, self.dec_layers, self.hidden_size, self.cell)\n",
    "            return self.decoder.beam_search(dec_hidden, encoder_outputs, beam_width, sos_idx, eos_idx, max_len, device)\n"
   ]
  },
  {
   "cell_type": "markdown",
   "metadata": {},
   "source": [
    "# 5. Training and Evaluation Functions\n",
    "\n",
    "Standard training, validation, and test routines for sequence-to-sequence models. Metrics and loss are computed and returned for each batch.\n"
   ]
  },
  {
   "cell_type": "code",
   "execution_count": 8,
   "metadata": {
    "execution": {
     "iopub.execute_input": "2025-05-19T19:34:24.727339Z",
     "iopub.status.busy": "2025-05-19T19:34:24.726989Z",
     "iopub.status.idle": "2025-05-19T19:34:24.744270Z",
     "shell.execute_reply": "2025-05-19T19:34:24.739440Z",
     "shell.execute_reply.started": "2025-05-19T19:34:24.727313Z"
    },
    "trusted": true
   },
   "outputs": [],
   "source": [
    "# Train and evaluate\n",
    "def train_epoch(model, dataloader, optimizer, criterion, device, clip=1.0):\n",
    "    model.train()\n",
    "    total_loss = 0\n",
    "    for src, trg in dataloader:\n",
    "        src, trg = src.to(device), trg.to(device)\n",
    "        optimizer.zero_grad()\n",
    "        output = model(src, trg)\n",
    "        output = output[:, 1:].reshape(-1, output.shape[-1])\n",
    "        trg = trg[:, 1:].reshape(-1)\n",
    "        loss = criterion(output, trg)\n",
    "        loss.backward()\n",
    "        torch.nn.utils.clip_grad_norm_(model.parameters(), clip)\n",
    "        optimizer.step()\n",
    "        total_loss += loss.item()\n",
    "    return total_loss / len(dataloader)\n",
    "\n",
    "def evaluate(model, dataloader, criterion, device):\n",
    "    model.eval()\n",
    "    total_loss = 0\n",
    "    with torch.no_grad():\n",
    "        for src, trg in dataloader:\n",
    "            src, trg = src.to(device), trg.to(device)\n",
    "            output = model(src, trg, teacher_forcing_ratio=0)\n",
    "            output = output[:, 1:].reshape(-1, output.shape[-1])\n",
    "            trg = trg[:, 1:].reshape(-1)\n",
    "            total_loss += criterion(output, trg).item()\n",
    "    return total_loss / len(dataloader)\n",
    "\n",
    "def sequence_accuracy(model, dataloader, target_idx2char, device):\n",
    "    model.eval()\n",
    "    total, correct = 0, 0\n",
    "    with torch.no_grad():\n",
    "        for src, trg in dataloader:\n",
    "            src, trg = src.to(device), trg.to(device)\n",
    "            for i in range(src.size(0)):\n",
    "                input_seq = src[i].unsqueeze(0)\n",
    "                pred_seq, _ = model.inference_beam_search(input_seq, beam_width=3, sos_idx=SOS_IDX, eos_idx=EOS_IDX, max_len=trg.size(1), device=device)\n",
    "                pred_str = ''.join([target_idx2char[idx] for idx in pred_seq if idx not in (PAD_IDX, SOS_IDX, EOS_IDX)])\n",
    "                true_str = ''.join([target_idx2char[idx] for idx in trg[i].tolist() if idx not in (PAD_IDX, SOS_IDX, EOS_IDX)])\n",
    "                correct += (pred_str == true_str)\n",
    "                total += 1\n",
    "    return correct/total"
   ]
  },
  {
   "cell_type": "markdown",
   "metadata": {},
   "source": [
    "# 6. Main Training Loop with Weights & Biases (W&B)\n",
    "\n",
    "The `main` function can be used both for single runs and as part of W&B hyperparameter sweeps.  \n",
    "It logs results to W&B and saves the best model by validation accuracy.\n"
   ]
  },
  {
   "cell_type": "code",
   "execution_count": 9,
   "metadata": {
    "execution": {
     "iopub.execute_input": "2025-05-19T19:34:28.571048Z",
     "iopub.status.busy": "2025-05-19T19:34:28.570704Z",
     "iopub.status.idle": "2025-05-19T19:34:28.586222Z",
     "shell.execute_reply": "2025-05-19T19:34:28.579811Z",
     "shell.execute_reply.started": "2025-05-19T19:34:28.571022Z"
    },
    "trusted": true
   },
   "outputs": [],
   "source": [
    "def main():\n",
    "    wandb.init()\n",
    "    config = wandb.config\n",
    "    run_name = f\"emb{config.emb_dim}_hid{config.hidden_dim}_enc{config.encoder_layers}_dec{config.decoder_layers}_drop{config.dropout}_{config.cell}_beam{config.beam_size}\"\n",
    "    wandb.run.name = run_name\n",
    "    model = Seq2Seq(\n",
    "        input_size=INPUT_DIM,\n",
    "        output_size=OUTPUT_DIM,\n",
    "        embed_size=config.emb_dim,\n",
    "        hidden_size=config.hidden_dim,\n",
    "        enc_layers=config.encoder_layers,\n",
    "        dec_layers=config.decoder_layers,\n",
    "        dropout=config.dropout,\n",
    "        cell=config.cell.lower()\n",
    "    ).to(device)\n",
    "    optimizer = torch.optim.Adam(model.parameters())\n",
    "    criterion = nn.CrossEntropyLoss(ignore_index=PAD_IDX)\n",
    "\n",
    "    for epoch in range(5):\n",
    "        train_loss = train_epoch(model, train_loader, optimizer, criterion, device)\n",
    "        #train_acc = sequence_accuracy(model, train_loader, target_idx2char, device)\n",
    "        val_loss = evaluate(model, val_loader, criterion, device)\n",
    "        val_acc = sequence_accuracy(model, val_loader, target_idx2char, device)\n",
    "        wandb.log({\n",
    "            \"epoch\": epoch+1,\n",
    "            \"train_loss\": train_loss,\n",
    "            #\"train_accuracy\":train_acc,\n",
    "            \"val_loss\": val_loss,\n",
    "            \"val_accuracy\": val_acc\n",
    "        })\n",
    "        print(f\"Epoch [{epoch+1}/5], Val Accuracy: {val_acc:.4f}\")\n",
    "    model_path = f\"model_{wandb.run.id}.pth\"\n",
    "    torch.save(model.state_dict(), model_path)\n",
    "    wandb.save(model_path)\n"
   ]
  },
  {
   "cell_type": "markdown",
   "metadata": {},
   "source": [
    "# 7. Log in to W&B Account\n",
    "\n",
    "Login into my W&B Account with API Key"
   ]
  },
  {
   "cell_type": "code",
   "execution_count": 10,
   "metadata": {
    "execution": {
     "iopub.execute_input": "2025-05-19T19:34:33.472302Z",
     "iopub.status.busy": "2025-05-19T19:34:33.471892Z",
     "iopub.status.idle": "2025-05-19T19:34:34.784260Z",
     "shell.execute_reply": "2025-05-19T19:34:34.777490Z",
     "shell.execute_reply.started": "2025-05-19T19:34:33.472269Z"
    },
    "trusted": true
   },
   "outputs": [
    {
     "name": "stderr",
     "output_type": "stream",
     "text": [
      "\u001b[34m\u001b[1mwandb\u001b[0m: \u001b[33mWARNING\u001b[0m If you're specifying your api key in code, ensure this code is not shared publicly.\n",
      "\u001b[34m\u001b[1mwandb\u001b[0m: \u001b[33mWARNING\u001b[0m Consider setting the WANDB_API_KEY environment variable, or running `wandb login` from the command line.\n",
      "\u001b[34m\u001b[1mwandb\u001b[0m: No netrc file found, creating one.\n",
      "\u001b[34m\u001b[1mwandb\u001b[0m: Appending key for api.wandb.ai to your netrc file: /root/.netrc\n",
      "\u001b[34m\u001b[1mwandb\u001b[0m: Currently logged in as: \u001b[33mma24m025\u001b[0m (\u001b[33mma24m025-indian-institute-of-technology-madras\u001b[0m) to \u001b[32mhttps://api.wandb.ai\u001b[0m. Use \u001b[1m`wandb login --relogin`\u001b[0m to force relogin\n"
     ]
    },
    {
     "data": {
      "text/plain": [
       "True"
      ]
     },
     "execution_count": 10,
     "metadata": {},
     "output_type": "execute_result"
    }
   ],
   "source": [
    "import wandb\n",
    "wandb.login(key='150002a34bcf7d04848ccaff65ab76ca5cc3f11b')"
   ]
  },
  {
   "cell_type": "markdown",
   "metadata": {},
   "source": [
    "# 8. Weights & Biases Sweep Configuration\n",
    "\n",
    "Set up a Bayesian parameter sweep for hyperparameter tuning with early stopping.\n"
   ]
  },
  {
   "cell_type": "code",
   "execution_count": 2,
   "metadata": {
    "execution": {
     "iopub.execute_input": "2025-05-18T08:46:28.268355Z",
     "iopub.status.busy": "2025-05-18T08:46:28.267611Z",
     "iopub.status.idle": "2025-05-18T14:14:34.747801Z",
     "shell.execute_reply": "2025-05-18T14:14:34.746917Z",
     "shell.execute_reply.started": "2025-05-18T08:46:28.268330Z"
    },
    "trusted": true
   },
   "outputs": [
    {
     "name": "stdout",
     "output_type": "stream",
     "text": [
      "Using device: cuda\n",
      "Train: 94546, Val: 9279, Test: 9228\n",
      "Input vocab: 29, Target vocab: 63\n",
      "Max input length: 22, Max target length: 24\n",
      "Create sweep with ID: 6qdndkb6\n",
      "Sweep URL: https://wandb.ai/ma24m025-indian-institute-of-technology-madras/dakshina-seq2seq-attn/sweeps/6qdndkb6\n"
     ]
    },
    {
     "name": "stderr",
     "output_type": "stream",
     "text": [
      "\u001b[34m\u001b[1mwandb\u001b[0m: Agent Starting Run: cunuqf8g with config:\n",
      "\u001b[34m\u001b[1mwandb\u001b[0m: \tbeam_size: 1\n",
      "\u001b[34m\u001b[1mwandb\u001b[0m: \tcell: RNN\n",
      "\u001b[34m\u001b[1mwandb\u001b[0m: \tdecoder_layers: 1\n",
      "\u001b[34m\u001b[1mwandb\u001b[0m: \tdropout: 0.2\n",
      "\u001b[34m\u001b[1mwandb\u001b[0m: \temb_dim: 16\n",
      "\u001b[34m\u001b[1mwandb\u001b[0m: \tencoder_layers: 2\n",
      "\u001b[34m\u001b[1mwandb\u001b[0m: \thidden_dim: 32\n"
     ]
    },
    {
     "data": {
      "text/html": [
       "Tracking run with wandb version 0.19.9"
      ],
      "text/plain": [
       "<IPython.core.display.HTML object>"
      ]
     },
     "metadata": {},
     "output_type": "display_data"
    },
    {
     "data": {
      "text/html": [
       "Run data is saved locally in <code>/kaggle/working/wandb/run-20250518_084639-cunuqf8g</code>"
      ],
      "text/plain": [
       "<IPython.core.display.HTML object>"
      ]
     },
     "metadata": {},
     "output_type": "display_data"
    },
    {
     "data": {
      "text/html": [
       "Syncing run <strong><a href='https://wandb.ai/ma24m025-indian-institute-of-technology-madras/dakshina-seq2seq-attn/runs/cunuqf8g' target=\"_blank\">magic-sweep-1</a></strong> to <a href='https://wandb.ai/ma24m025-indian-institute-of-technology-madras/dakshina-seq2seq-attn' target=\"_blank\">Weights & Biases</a> (<a href='https://wandb.me/developer-guide' target=\"_blank\">docs</a>)<br>Sweep page: <a href='https://wandb.ai/ma24m025-indian-institute-of-technology-madras/dakshina-seq2seq-attn/sweeps/6qdndkb6' target=\"_blank\">https://wandb.ai/ma24m025-indian-institute-of-technology-madras/dakshina-seq2seq-attn/sweeps/6qdndkb6</a>"
      ],
      "text/plain": [
       "<IPython.core.display.HTML object>"
      ]
     },
     "metadata": {},
     "output_type": "display_data"
    },
    {
     "data": {
      "text/html": [
       " View project at <a href='https://wandb.ai/ma24m025-indian-institute-of-technology-madras/dakshina-seq2seq-attn' target=\"_blank\">https://wandb.ai/ma24m025-indian-institute-of-technology-madras/dakshina-seq2seq-attn</a>"
      ],
      "text/plain": [
       "<IPython.core.display.HTML object>"
      ]
     },
     "metadata": {},
     "output_type": "display_data"
    },
    {
     "data": {
      "text/html": [
       " View sweep at <a href='https://wandb.ai/ma24m025-indian-institute-of-technology-madras/dakshina-seq2seq-attn/sweeps/6qdndkb6' target=\"_blank\">https://wandb.ai/ma24m025-indian-institute-of-technology-madras/dakshina-seq2seq-attn/sweeps/6qdndkb6</a>"
      ],
      "text/plain": [
       "<IPython.core.display.HTML object>"
      ]
     },
     "metadata": {},
     "output_type": "display_data"
    },
    {
     "data": {
      "text/html": [
       " View run at <a href='https://wandb.ai/ma24m025-indian-institute-of-technology-madras/dakshina-seq2seq-attn/runs/cunuqf8g' target=\"_blank\">https://wandb.ai/ma24m025-indian-institute-of-technology-madras/dakshina-seq2seq-attn/runs/cunuqf8g</a>"
      ],
      "text/plain": [
       "<IPython.core.display.HTML object>"
      ]
     },
     "metadata": {},
     "output_type": "display_data"
    },
    {
     "name": "stdout",
     "output_type": "stream",
     "text": [
      "Epoch [1/10], Val Accuracy: 0.0300\n",
      "Epoch [2/10], Val Accuracy: 0.0803\n",
      "Epoch [3/10], Val Accuracy: 0.0977\n",
      "Epoch [4/10], Val Accuracy: 0.1222\n",
      "Epoch [5/10], Val Accuracy: 0.1301\n"
     ]
    },
    {
     "data": {
      "text/html": [],
      "text/plain": [
       "<IPython.core.display.HTML object>"
      ]
     },
     "metadata": {},
     "output_type": "display_data"
    },
    {
     "data": {
      "text/html": [
       "<br>    <style><br>        .wandb-row {<br>            display: flex;<br>            flex-direction: row;<br>            flex-wrap: wrap;<br>            justify-content: flex-start;<br>            width: 100%;<br>        }<br>        .wandb-col {<br>            display: flex;<br>            flex-direction: column;<br>            flex-basis: 100%;<br>            flex: 1;<br>            padding: 10px;<br>        }<br>    </style><br><div class=\"wandb-row\"><div class=\"wandb-col\"><h3>Run history:</h3><br/><table class=\"wandb\"><tr><td>epoch</td><td>▁▃▅▆█</td></tr><tr><td>train_loss</td><td>█▃▂▁▁</td></tr><tr><td>val_accuracy</td><td>▁▅▆▇█</td></tr><tr><td>val_loss</td><td>█▄▂▂▁</td></tr></table><br/></div><div class=\"wandb-col\"><h3>Run summary:</h3><br/><table class=\"wandb\"><tr><td>epoch</td><td>5</td></tr><tr><td>train_loss</td><td>1.25483</td></tr><tr><td>val_accuracy</td><td>0.13008</td></tr><tr><td>val_loss</td><td>1.53152</td></tr></table><br/></div></div>"
      ],
      "text/plain": [
       "<IPython.core.display.HTML object>"
      ]
     },
     "metadata": {},
     "output_type": "display_data"
    },
    {
     "data": {
      "text/html": [
       " View run <strong style=\"color:#cdcd00\">emb16_hid32_enc2_dec1_drop0.2_RNN_beam1</strong> at: <a href='https://wandb.ai/ma24m025-indian-institute-of-technology-madras/dakshina-seq2seq-attn/runs/cunuqf8g' target=\"_blank\">https://wandb.ai/ma24m025-indian-institute-of-technology-madras/dakshina-seq2seq-attn/runs/cunuqf8g</a><br> View project at: <a href='https://wandb.ai/ma24m025-indian-institute-of-technology-madras/dakshina-seq2seq-attn' target=\"_blank\">https://wandb.ai/ma24m025-indian-institute-of-technology-madras/dakshina-seq2seq-attn</a><br>Synced 5 W&B file(s), 0 media file(s), 0 artifact file(s) and 1 other file(s)"
      ],
      "text/plain": [
       "<IPython.core.display.HTML object>"
      ]
     },
     "metadata": {},
     "output_type": "display_data"
    },
    {
     "data": {
      "text/html": [
       "Find logs at: <code>./wandb/run-20250518_084639-cunuqf8g/logs</code>"
      ],
      "text/plain": [
       "<IPython.core.display.HTML object>"
      ]
     },
     "metadata": {},
     "output_type": "display_data"
    },
    {
     "name": "stderr",
     "output_type": "stream",
     "text": [
      "\u001b[34m\u001b[1mwandb\u001b[0m: Agent Starting Run: cxq89yg4 with config:\n",
      "\u001b[34m\u001b[1mwandb\u001b[0m: \tbeam_size: 3\n",
      "\u001b[34m\u001b[1mwandb\u001b[0m: \tcell: LSTM\n",
      "\u001b[34m\u001b[1mwandb\u001b[0m: \tdecoder_layers: 2\n",
      "\u001b[34m\u001b[1mwandb\u001b[0m: \tdropout: 0.2\n",
      "\u001b[34m\u001b[1mwandb\u001b[0m: \temb_dim: 64\n",
      "\u001b[34m\u001b[1mwandb\u001b[0m: \tencoder_layers: 3\n",
      "\u001b[34m\u001b[1mwandb\u001b[0m: \thidden_dim: 16\n"
     ]
    },
    {
     "data": {
      "text/html": [
       "Tracking run with wandb version 0.19.9"
      ],
      "text/plain": [
       "<IPython.core.display.HTML object>"
      ]
     },
     "metadata": {},
     "output_type": "display_data"
    },
    {
     "data": {
      "text/html": [
       "Run data is saved locally in <code>/kaggle/working/wandb/run-20250518_090543-cxq89yg4</code>"
      ],
      "text/plain": [
       "<IPython.core.display.HTML object>"
      ]
     },
     "metadata": {},
     "output_type": "display_data"
    },
    {
     "data": {
      "text/html": [
       "Syncing run <strong><a href='https://wandb.ai/ma24m025-indian-institute-of-technology-madras/dakshina-seq2seq-attn/runs/cxq89yg4' target=\"_blank\">divine-sweep-2</a></strong> to <a href='https://wandb.ai/ma24m025-indian-institute-of-technology-madras/dakshina-seq2seq-attn' target=\"_blank\">Weights & Biases</a> (<a href='https://wandb.me/developer-guide' target=\"_blank\">docs</a>)<br>Sweep page: <a href='https://wandb.ai/ma24m025-indian-institute-of-technology-madras/dakshina-seq2seq-attn/sweeps/6qdndkb6' target=\"_blank\">https://wandb.ai/ma24m025-indian-institute-of-technology-madras/dakshina-seq2seq-attn/sweeps/6qdndkb6</a>"
      ],
      "text/plain": [
       "<IPython.core.display.HTML object>"
      ]
     },
     "metadata": {},
     "output_type": "display_data"
    },
    {
     "data": {
      "text/html": [
       " View project at <a href='https://wandb.ai/ma24m025-indian-institute-of-technology-madras/dakshina-seq2seq-attn' target=\"_blank\">https://wandb.ai/ma24m025-indian-institute-of-technology-madras/dakshina-seq2seq-attn</a>"
      ],
      "text/plain": [
       "<IPython.core.display.HTML object>"
      ]
     },
     "metadata": {},
     "output_type": "display_data"
    },
    {
     "data": {
      "text/html": [
       " View sweep at <a href='https://wandb.ai/ma24m025-indian-institute-of-technology-madras/dakshina-seq2seq-attn/sweeps/6qdndkb6' target=\"_blank\">https://wandb.ai/ma24m025-indian-institute-of-technology-madras/dakshina-seq2seq-attn/sweeps/6qdndkb6</a>"
      ],
      "text/plain": [
       "<IPython.core.display.HTML object>"
      ]
     },
     "metadata": {},
     "output_type": "display_data"
    },
    {
     "data": {
      "text/html": [
       " View run at <a href='https://wandb.ai/ma24m025-indian-institute-of-technology-madras/dakshina-seq2seq-attn/runs/cxq89yg4' target=\"_blank\">https://wandb.ai/ma24m025-indian-institute-of-technology-madras/dakshina-seq2seq-attn/runs/cxq89yg4</a>"
      ],
      "text/plain": [
       "<IPython.core.display.HTML object>"
      ]
     },
     "metadata": {},
     "output_type": "display_data"
    },
    {
     "name": "stdout",
     "output_type": "stream",
     "text": [
      "Epoch [1/10], Val Accuracy: 0.0000\n",
      "Epoch [2/10], Val Accuracy: 0.0006\n",
      "Epoch [3/10], Val Accuracy: 0.0040\n"
     ]
    },
    {
     "data": {
      "text/html": [],
      "text/plain": [
       "<IPython.core.display.HTML object>"
      ]
     },
     "metadata": {},
     "output_type": "display_data"
    },
    {
     "data": {
      "text/html": [
       "<br>    <style><br>        .wandb-row {<br>            display: flex;<br>            flex-direction: row;<br>            flex-wrap: wrap;<br>            justify-content: flex-start;<br>            width: 100%;<br>        }<br>        .wandb-col {<br>            display: flex;<br>            flex-direction: column;<br>            flex-basis: 100%;<br>            flex: 1;<br>            padding: 10px;<br>        }<br>    </style><br><div class=\"wandb-row\"><div class=\"wandb-col\"><h3>Run history:</h3><br/><table class=\"wandb\"><tr><td>epoch</td><td>▁▅█</td></tr><tr><td>train_loss</td><td>█▄▁</td></tr><tr><td>val_accuracy</td><td>▁▂█</td></tr><tr><td>val_loss</td><td>█▄▁</td></tr></table><br/></div><div class=\"wandb-col\"><h3>Run summary:</h3><br/><table class=\"wandb\"><tr><td>epoch</td><td>3</td></tr><tr><td>train_loss</td><td>2.25663</td></tr><tr><td>val_accuracy</td><td>0.00399</td></tr><tr><td>val_loss</td><td>2.28299</td></tr></table><br/></div></div>"
      ],
      "text/plain": [
       "<IPython.core.display.HTML object>"
      ]
     },
     "metadata": {},
     "output_type": "display_data"
    },
    {
     "data": {
      "text/html": [
       " View run <strong style=\"color:#cdcd00\">emb64_hid16_enc3_dec2_drop0.2_LSTM_beam3</strong> at: <a href='https://wandb.ai/ma24m025-indian-institute-of-technology-madras/dakshina-seq2seq-attn/runs/cxq89yg4' target=\"_blank\">https://wandb.ai/ma24m025-indian-institute-of-technology-madras/dakshina-seq2seq-attn/runs/cxq89yg4</a><br> View project at: <a href='https://wandb.ai/ma24m025-indian-institute-of-technology-madras/dakshina-seq2seq-attn' target=\"_blank\">https://wandb.ai/ma24m025-indian-institute-of-technology-madras/dakshina-seq2seq-attn</a><br>Synced 5 W&B file(s), 0 media file(s), 0 artifact file(s) and 0 other file(s)"
      ],
      "text/plain": [
       "<IPython.core.display.HTML object>"
      ]
     },
     "metadata": {},
     "output_type": "display_data"
    },
    {
     "data": {
      "text/html": [
       "Find logs at: <code>./wandb/run-20250518_090543-cxq89yg4/logs</code>"
      ],
      "text/plain": [
       "<IPython.core.display.HTML object>"
      ]
     },
     "metadata": {},
     "output_type": "display_data"
    },
    {
     "name": "stderr",
     "output_type": "stream",
     "text": [
      "\u001b[34m\u001b[1mwandb\u001b[0m: Agent Starting Run: fgdpotl6 with config:\n",
      "\u001b[34m\u001b[1mwandb\u001b[0m: \tbeam_size: 3\n",
      "\u001b[34m\u001b[1mwandb\u001b[0m: \tcell: GRU\n",
      "\u001b[34m\u001b[1mwandb\u001b[0m: \tdecoder_layers: 3\n",
      "\u001b[34m\u001b[1mwandb\u001b[0m: \tdropout: 0.2\n",
      "\u001b[34m\u001b[1mwandb\u001b[0m: \temb_dim: 64\n",
      "\u001b[34m\u001b[1mwandb\u001b[0m: \tencoder_layers: 3\n",
      "\u001b[34m\u001b[1mwandb\u001b[0m: \thidden_dim: 64\n"
     ]
    },
    {
     "data": {
      "text/html": [
       "Tracking run with wandb version 0.19.9"
      ],
      "text/plain": [
       "<IPython.core.display.HTML object>"
      ]
     },
     "metadata": {},
     "output_type": "display_data"
    },
    {
     "data": {
      "text/html": [
       "Run data is saved locally in <code>/kaggle/working/wandb/run-20250518_091917-fgdpotl6</code>"
      ],
      "text/plain": [
       "<IPython.core.display.HTML object>"
      ]
     },
     "metadata": {},
     "output_type": "display_data"
    },
    {
     "data": {
      "text/html": [
       "Syncing run <strong><a href='https://wandb.ai/ma24m025-indian-institute-of-technology-madras/dakshina-seq2seq-attn/runs/fgdpotl6' target=\"_blank\">daily-sweep-3</a></strong> to <a href='https://wandb.ai/ma24m025-indian-institute-of-technology-madras/dakshina-seq2seq-attn' target=\"_blank\">Weights & Biases</a> (<a href='https://wandb.me/developer-guide' target=\"_blank\">docs</a>)<br>Sweep page: <a href='https://wandb.ai/ma24m025-indian-institute-of-technology-madras/dakshina-seq2seq-attn/sweeps/6qdndkb6' target=\"_blank\">https://wandb.ai/ma24m025-indian-institute-of-technology-madras/dakshina-seq2seq-attn/sweeps/6qdndkb6</a>"
      ],
      "text/plain": [
       "<IPython.core.display.HTML object>"
      ]
     },
     "metadata": {},
     "output_type": "display_data"
    },
    {
     "data": {
      "text/html": [
       " View project at <a href='https://wandb.ai/ma24m025-indian-institute-of-technology-madras/dakshina-seq2seq-attn' target=\"_blank\">https://wandb.ai/ma24m025-indian-institute-of-technology-madras/dakshina-seq2seq-attn</a>"
      ],
      "text/plain": [
       "<IPython.core.display.HTML object>"
      ]
     },
     "metadata": {},
     "output_type": "display_data"
    },
    {
     "data": {
      "text/html": [
       " View sweep at <a href='https://wandb.ai/ma24m025-indian-institute-of-technology-madras/dakshina-seq2seq-attn/sweeps/6qdndkb6' target=\"_blank\">https://wandb.ai/ma24m025-indian-institute-of-technology-madras/dakshina-seq2seq-attn/sweeps/6qdndkb6</a>"
      ],
      "text/plain": [
       "<IPython.core.display.HTML object>"
      ]
     },
     "metadata": {},
     "output_type": "display_data"
    },
    {
     "data": {
      "text/html": [
       " View run at <a href='https://wandb.ai/ma24m025-indian-institute-of-technology-madras/dakshina-seq2seq-attn/runs/fgdpotl6' target=\"_blank\">https://wandb.ai/ma24m025-indian-institute-of-technology-madras/dakshina-seq2seq-attn/runs/fgdpotl6</a>"
      ],
      "text/plain": [
       "<IPython.core.display.HTML object>"
      ]
     },
     "metadata": {},
     "output_type": "display_data"
    },
    {
     "name": "stdout",
     "output_type": "stream",
     "text": [
      "Epoch [1/10], Val Accuracy: 0.1298\n",
      "Epoch [2/10], Val Accuracy: 0.2022\n",
      "Epoch [3/10], Val Accuracy: 0.2325\n",
      "Epoch [4/10], Val Accuracy: 0.2547\n",
      "Epoch [5/10], Val Accuracy: 0.2697\n"
     ]
    },
    {
     "data": {
      "text/html": [],
      "text/plain": [
       "<IPython.core.display.HTML object>"
      ]
     },
     "metadata": {},
     "output_type": "display_data"
    },
    {
     "data": {
      "text/html": [
       "<br>    <style><br>        .wandb-row {<br>            display: flex;<br>            flex-direction: row;<br>            flex-wrap: wrap;<br>            justify-content: flex-start;<br>            width: 100%;<br>        }<br>        .wandb-col {<br>            display: flex;<br>            flex-direction: column;<br>            flex-basis: 100%;<br>            flex: 1;<br>            padding: 10px;<br>        }<br>    </style><br><div class=\"wandb-row\"><div class=\"wandb-col\"><h3>Run history:</h3><br/><table class=\"wandb\"><tr><td>epoch</td><td>▁▃▅▆█</td></tr><tr><td>train_loss</td><td>█▃▂▁▁</td></tr><tr><td>val_accuracy</td><td>▁▅▆▇█</td></tr><tr><td>val_loss</td><td>█▄▃▂▁</td></tr></table><br/></div><div class=\"wandb-col\"><h3>Run summary:</h3><br/><table class=\"wandb\"><tr><td>epoch</td><td>5</td></tr><tr><td>train_loss</td><td>0.77485</td></tr><tr><td>val_accuracy</td><td>0.26975</td></tr><tr><td>val_loss</td><td>1.17382</td></tr></table><br/></div></div>"
      ],
      "text/plain": [
       "<IPython.core.display.HTML object>"
      ]
     },
     "metadata": {},
     "output_type": "display_data"
    },
    {
     "data": {
      "text/html": [
       " View run <strong style=\"color:#cdcd00\">emb64_hid64_enc3_dec3_drop0.2_GRU_beam3</strong> at: <a href='https://wandb.ai/ma24m025-indian-institute-of-technology-madras/dakshina-seq2seq-attn/runs/fgdpotl6' target=\"_blank\">https://wandb.ai/ma24m025-indian-institute-of-technology-madras/dakshina-seq2seq-attn/runs/fgdpotl6</a><br> View project at: <a href='https://wandb.ai/ma24m025-indian-institute-of-technology-madras/dakshina-seq2seq-attn' target=\"_blank\">https://wandb.ai/ma24m025-indian-institute-of-technology-madras/dakshina-seq2seq-attn</a><br>Synced 5 W&B file(s), 0 media file(s), 0 artifact file(s) and 1 other file(s)"
      ],
      "text/plain": [
       "<IPython.core.display.HTML object>"
      ]
     },
     "metadata": {},
     "output_type": "display_data"
    },
    {
     "data": {
      "text/html": [
       "Find logs at: <code>./wandb/run-20250518_091917-fgdpotl6/logs</code>"
      ],
      "text/plain": [
       "<IPython.core.display.HTML object>"
      ]
     },
     "metadata": {},
     "output_type": "display_data"
    },
    {
     "name": "stderr",
     "output_type": "stream",
     "text": [
      "\u001b[34m\u001b[1mwandb\u001b[0m: Sweep Agent: Waiting for job.\n",
      "\u001b[34m\u001b[1mwandb\u001b[0m: Job received.\n",
      "\u001b[34m\u001b[1mwandb\u001b[0m: Agent Starting Run: m0bm2g5f with config:\n",
      "\u001b[34m\u001b[1mwandb\u001b[0m: \tbeam_size: 1\n",
      "\u001b[34m\u001b[1mwandb\u001b[0m: \tcell: GRU\n",
      "\u001b[34m\u001b[1mwandb\u001b[0m: \tdecoder_layers: 3\n",
      "\u001b[34m\u001b[1mwandb\u001b[0m: \tdropout: 0.2\n",
      "\u001b[34m\u001b[1mwandb\u001b[0m: \temb_dim: 128\n",
      "\u001b[34m\u001b[1mwandb\u001b[0m: \tencoder_layers: 2\n",
      "\u001b[34m\u001b[1mwandb\u001b[0m: \thidden_dim: 256\n"
     ]
    },
    {
     "data": {
      "text/html": [
       "Tracking run with wandb version 0.19.9"
      ],
      "text/plain": [
       "<IPython.core.display.HTML object>"
      ]
     },
     "metadata": {},
     "output_type": "display_data"
    },
    {
     "data": {
      "text/html": [
       "Run data is saved locally in <code>/kaggle/working/wandb/run-20250518_094157-m0bm2g5f</code>"
      ],
      "text/plain": [
       "<IPython.core.display.HTML object>"
      ]
     },
     "metadata": {},
     "output_type": "display_data"
    },
    {
     "data": {
      "text/html": [
       "Syncing run <strong><a href='https://wandb.ai/ma24m025-indian-institute-of-technology-madras/dakshina-seq2seq-attn/runs/m0bm2g5f' target=\"_blank\">rosy-sweep-4</a></strong> to <a href='https://wandb.ai/ma24m025-indian-institute-of-technology-madras/dakshina-seq2seq-attn' target=\"_blank\">Weights & Biases</a> (<a href='https://wandb.me/developer-guide' target=\"_blank\">docs</a>)<br>Sweep page: <a href='https://wandb.ai/ma24m025-indian-institute-of-technology-madras/dakshina-seq2seq-attn/sweeps/6qdndkb6' target=\"_blank\">https://wandb.ai/ma24m025-indian-institute-of-technology-madras/dakshina-seq2seq-attn/sweeps/6qdndkb6</a>"
      ],
      "text/plain": [
       "<IPython.core.display.HTML object>"
      ]
     },
     "metadata": {},
     "output_type": "display_data"
    },
    {
     "data": {
      "text/html": [
       " View project at <a href='https://wandb.ai/ma24m025-indian-institute-of-technology-madras/dakshina-seq2seq-attn' target=\"_blank\">https://wandb.ai/ma24m025-indian-institute-of-technology-madras/dakshina-seq2seq-attn</a>"
      ],
      "text/plain": [
       "<IPython.core.display.HTML object>"
      ]
     },
     "metadata": {},
     "output_type": "display_data"
    },
    {
     "data": {
      "text/html": [
       " View sweep at <a href='https://wandb.ai/ma24m025-indian-institute-of-technology-madras/dakshina-seq2seq-attn/sweeps/6qdndkb6' target=\"_blank\">https://wandb.ai/ma24m025-indian-institute-of-technology-madras/dakshina-seq2seq-attn/sweeps/6qdndkb6</a>"
      ],
      "text/plain": [
       "<IPython.core.display.HTML object>"
      ]
     },
     "metadata": {},
     "output_type": "display_data"
    },
    {
     "data": {
      "text/html": [
       " View run at <a href='https://wandb.ai/ma24m025-indian-institute-of-technology-madras/dakshina-seq2seq-attn/runs/m0bm2g5f' target=\"_blank\">https://wandb.ai/ma24m025-indian-institute-of-technology-madras/dakshina-seq2seq-attn/runs/m0bm2g5f</a>"
      ],
      "text/plain": [
       "<IPython.core.display.HTML object>"
      ]
     },
     "metadata": {},
     "output_type": "display_data"
    },
    {
     "name": "stdout",
     "output_type": "stream",
     "text": [
      "Epoch [1/10], Val Accuracy: 0.2669\n",
      "Epoch [2/10], Val Accuracy: 0.3237\n",
      "Epoch [3/10], Val Accuracy: 0.3427\n",
      "Epoch [4/10], Val Accuracy: 0.3486\n",
      "Epoch [5/10], Val Accuracy: 0.3712\n"
     ]
    },
    {
     "data": {
      "text/html": [],
      "text/plain": [
       "<IPython.core.display.HTML object>"
      ]
     },
     "metadata": {},
     "output_type": "display_data"
    },
    {
     "data": {
      "text/html": [
       "<br>    <style><br>        .wandb-row {<br>            display: flex;<br>            flex-direction: row;<br>            flex-wrap: wrap;<br>            justify-content: flex-start;<br>            width: 100%;<br>        }<br>        .wandb-col {<br>            display: flex;<br>            flex-direction: column;<br>            flex-basis: 100%;<br>            flex: 1;<br>            padding: 10px;<br>        }<br>    </style><br><div class=\"wandb-row\"><div class=\"wandb-col\"><h3>Run history:</h3><br/><table class=\"wandb\"><tr><td>epoch</td><td>▁▃▅▆█</td></tr><tr><td>train_loss</td><td>█▃▂▁▁</td></tr><tr><td>val_accuracy</td><td>▁▅▆▆█</td></tr><tr><td>val_loss</td><td>█▃▁▆▆</td></tr></table><br/></div><div class=\"wandb-col\"><h3>Run summary:</h3><br/><table class=\"wandb\"><tr><td>epoch</td><td>5</td></tr><tr><td>train_loss</td><td>0.41222</td></tr><tr><td>val_accuracy</td><td>0.37116</td></tr><tr><td>val_loss</td><td>1.18015</td></tr></table><br/></div></div>"
      ],
      "text/plain": [
       "<IPython.core.display.HTML object>"
      ]
     },
     "metadata": {},
     "output_type": "display_data"
    },
    {
     "data": {
      "text/html": [
       " View run <strong style=\"color:#cdcd00\">emb128_hid256_enc2_dec3_drop0.2_GRU_beam1</strong> at: <a href='https://wandb.ai/ma24m025-indian-institute-of-technology-madras/dakshina-seq2seq-attn/runs/m0bm2g5f' target=\"_blank\">https://wandb.ai/ma24m025-indian-institute-of-technology-madras/dakshina-seq2seq-attn/runs/m0bm2g5f</a><br> View project at: <a href='https://wandb.ai/ma24m025-indian-institute-of-technology-madras/dakshina-seq2seq-attn' target=\"_blank\">https://wandb.ai/ma24m025-indian-institute-of-technology-madras/dakshina-seq2seq-attn</a><br>Synced 5 W&B file(s), 0 media file(s), 0 artifact file(s) and 1 other file(s)"
      ],
      "text/plain": [
       "<IPython.core.display.HTML object>"
      ]
     },
     "metadata": {},
     "output_type": "display_data"
    },
    {
     "data": {
      "text/html": [
       "Find logs at: <code>./wandb/run-20250518_094157-m0bm2g5f/logs</code>"
      ],
      "text/plain": [
       "<IPython.core.display.HTML object>"
      ]
     },
     "metadata": {},
     "output_type": "display_data"
    },
    {
     "name": "stderr",
     "output_type": "stream",
     "text": [
      "\u001b[34m\u001b[1mwandb\u001b[0m: Agent Starting Run: 1kudz4dx with config:\n",
      "\u001b[34m\u001b[1mwandb\u001b[0m: \tbeam_size: 5\n",
      "\u001b[34m\u001b[1mwandb\u001b[0m: \tcell: RNN\n",
      "\u001b[34m\u001b[1mwandb\u001b[0m: \tdecoder_layers: 2\n",
      "\u001b[34m\u001b[1mwandb\u001b[0m: \tdropout: 0.3\n",
      "\u001b[34m\u001b[1mwandb\u001b[0m: \temb_dim: 128\n",
      "\u001b[34m\u001b[1mwandb\u001b[0m: \tencoder_layers: 3\n",
      "\u001b[34m\u001b[1mwandb\u001b[0m: \thidden_dim: 16\n"
     ]
    },
    {
     "data": {
      "text/html": [
       "Tracking run with wandb version 0.19.9"
      ],
      "text/plain": [
       "<IPython.core.display.HTML object>"
      ]
     },
     "metadata": {},
     "output_type": "display_data"
    },
    {
     "data": {
      "text/html": [
       "Run data is saved locally in <code>/kaggle/working/wandb/run-20250518_100554-1kudz4dx</code>"
      ],
      "text/plain": [
       "<IPython.core.display.HTML object>"
      ]
     },
     "metadata": {},
     "output_type": "display_data"
    },
    {
     "data": {
      "text/html": [
       "Syncing run <strong><a href='https://wandb.ai/ma24m025-indian-institute-of-technology-madras/dakshina-seq2seq-attn/runs/1kudz4dx' target=\"_blank\">wise-sweep-5</a></strong> to <a href='https://wandb.ai/ma24m025-indian-institute-of-technology-madras/dakshina-seq2seq-attn' target=\"_blank\">Weights & Biases</a> (<a href='https://wandb.me/developer-guide' target=\"_blank\">docs</a>)<br>Sweep page: <a href='https://wandb.ai/ma24m025-indian-institute-of-technology-madras/dakshina-seq2seq-attn/sweeps/6qdndkb6' target=\"_blank\">https://wandb.ai/ma24m025-indian-institute-of-technology-madras/dakshina-seq2seq-attn/sweeps/6qdndkb6</a>"
      ],
      "text/plain": [
       "<IPython.core.display.HTML object>"
      ]
     },
     "metadata": {},
     "output_type": "display_data"
    },
    {
     "data": {
      "text/html": [
       " View project at <a href='https://wandb.ai/ma24m025-indian-institute-of-technology-madras/dakshina-seq2seq-attn' target=\"_blank\">https://wandb.ai/ma24m025-indian-institute-of-technology-madras/dakshina-seq2seq-attn</a>"
      ],
      "text/plain": [
       "<IPython.core.display.HTML object>"
      ]
     },
     "metadata": {},
     "output_type": "display_data"
    },
    {
     "data": {
      "text/html": [
       " View sweep at <a href='https://wandb.ai/ma24m025-indian-institute-of-technology-madras/dakshina-seq2seq-attn/sweeps/6qdndkb6' target=\"_blank\">https://wandb.ai/ma24m025-indian-institute-of-technology-madras/dakshina-seq2seq-attn/sweeps/6qdndkb6</a>"
      ],
      "text/plain": [
       "<IPython.core.display.HTML object>"
      ]
     },
     "metadata": {},
     "output_type": "display_data"
    },
    {
     "data": {
      "text/html": [
       " View run at <a href='https://wandb.ai/ma24m025-indian-institute-of-technology-madras/dakshina-seq2seq-attn/runs/1kudz4dx' target=\"_blank\">https://wandb.ai/ma24m025-indian-institute-of-technology-madras/dakshina-seq2seq-attn/runs/1kudz4dx</a>"
      ],
      "text/plain": [
       "<IPython.core.display.HTML object>"
      ]
     },
     "metadata": {},
     "output_type": "display_data"
    },
    {
     "name": "stdout",
     "output_type": "stream",
     "text": [
      "Epoch [1/10], Val Accuracy: 0.0000\n",
      "Epoch [2/10], Val Accuracy: 0.0000\n",
      "Epoch [3/10], Val Accuracy: 0.0000\n"
     ]
    },
    {
     "data": {
      "text/html": [],
      "text/plain": [
       "<IPython.core.display.HTML object>"
      ]
     },
     "metadata": {},
     "output_type": "display_data"
    },
    {
     "data": {
      "text/html": [
       "<br>    <style><br>        .wandb-row {<br>            display: flex;<br>            flex-direction: row;<br>            flex-wrap: wrap;<br>            justify-content: flex-start;<br>            width: 100%;<br>        }<br>        .wandb-col {<br>            display: flex;<br>            flex-direction: column;<br>            flex-basis: 100%;<br>            flex: 1;<br>            padding: 10px;<br>        }<br>    </style><br><div class=\"wandb-row\"><div class=\"wandb-col\"><h3>Run history:</h3><br/><table class=\"wandb\"><tr><td>epoch</td><td>▁▅█</td></tr><tr><td>train_loss</td><td>█▃▁</td></tr><tr><td>val_accuracy</td><td>▁▁▁</td></tr><tr><td>val_loss</td><td>█▂▁</td></tr></table><br/></div><div class=\"wandb-col\"><h3>Run summary:</h3><br/><table class=\"wandb\"><tr><td>epoch</td><td>3</td></tr><tr><td>train_loss</td><td>2.66267</td></tr><tr><td>val_accuracy</td><td>0</td></tr><tr><td>val_loss</td><td>2.84875</td></tr></table><br/></div></div>"
      ],
      "text/plain": [
       "<IPython.core.display.HTML object>"
      ]
     },
     "metadata": {},
     "output_type": "display_data"
    },
    {
     "data": {
      "text/html": [
       " View run <strong style=\"color:#cdcd00\">emb128_hid16_enc3_dec2_drop0.3_RNN_beam5</strong> at: <a href='https://wandb.ai/ma24m025-indian-institute-of-technology-madras/dakshina-seq2seq-attn/runs/1kudz4dx' target=\"_blank\">https://wandb.ai/ma24m025-indian-institute-of-technology-madras/dakshina-seq2seq-attn/runs/1kudz4dx</a><br> View project at: <a href='https://wandb.ai/ma24m025-indian-institute-of-technology-madras/dakshina-seq2seq-attn' target=\"_blank\">https://wandb.ai/ma24m025-indian-institute-of-technology-madras/dakshina-seq2seq-attn</a><br>Synced 5 W&B file(s), 0 media file(s), 0 artifact file(s) and 0 other file(s)"
      ],
      "text/plain": [
       "<IPython.core.display.HTML object>"
      ]
     },
     "metadata": {},
     "output_type": "display_data"
    },
    {
     "data": {
      "text/html": [
       "Find logs at: <code>./wandb/run-20250518_100554-1kudz4dx/logs</code>"
      ],
      "text/plain": [
       "<IPython.core.display.HTML object>"
      ]
     },
     "metadata": {},
     "output_type": "display_data"
    },
    {
     "name": "stderr",
     "output_type": "stream",
     "text": [
      "\u001b[34m\u001b[1mwandb\u001b[0m: Agent Starting Run: y1geb8cb with config:\n",
      "\u001b[34m\u001b[1mwandb\u001b[0m: \tbeam_size: 3\n",
      "\u001b[34m\u001b[1mwandb\u001b[0m: \tcell: GRU\n",
      "\u001b[34m\u001b[1mwandb\u001b[0m: \tdecoder_layers: 3\n",
      "\u001b[34m\u001b[1mwandb\u001b[0m: \tdropout: 0.2\n",
      "\u001b[34m\u001b[1mwandb\u001b[0m: \temb_dim: 64\n",
      "\u001b[34m\u001b[1mwandb\u001b[0m: \tencoder_layers: 3\n",
      "\u001b[34m\u001b[1mwandb\u001b[0m: \thidden_dim: 128\n"
     ]
    },
    {
     "data": {
      "text/html": [
       "Tracking run with wandb version 0.19.9"
      ],
      "text/plain": [
       "<IPython.core.display.HTML object>"
      ]
     },
     "metadata": {},
     "output_type": "display_data"
    },
    {
     "data": {
      "text/html": [
       "Run data is saved locally in <code>/kaggle/working/wandb/run-20250518_101812-y1geb8cb</code>"
      ],
      "text/plain": [
       "<IPython.core.display.HTML object>"
      ]
     },
     "metadata": {},
     "output_type": "display_data"
    },
    {
     "data": {
      "text/html": [
       "Syncing run <strong><a href='https://wandb.ai/ma24m025-indian-institute-of-technology-madras/dakshina-seq2seq-attn/runs/y1geb8cb' target=\"_blank\">rare-sweep-6</a></strong> to <a href='https://wandb.ai/ma24m025-indian-institute-of-technology-madras/dakshina-seq2seq-attn' target=\"_blank\">Weights & Biases</a> (<a href='https://wandb.me/developer-guide' target=\"_blank\">docs</a>)<br>Sweep page: <a href='https://wandb.ai/ma24m025-indian-institute-of-technology-madras/dakshina-seq2seq-attn/sweeps/6qdndkb6' target=\"_blank\">https://wandb.ai/ma24m025-indian-institute-of-technology-madras/dakshina-seq2seq-attn/sweeps/6qdndkb6</a>"
      ],
      "text/plain": [
       "<IPython.core.display.HTML object>"
      ]
     },
     "metadata": {},
     "output_type": "display_data"
    },
    {
     "data": {
      "text/html": [
       " View project at <a href='https://wandb.ai/ma24m025-indian-institute-of-technology-madras/dakshina-seq2seq-attn' target=\"_blank\">https://wandb.ai/ma24m025-indian-institute-of-technology-madras/dakshina-seq2seq-attn</a>"
      ],
      "text/plain": [
       "<IPython.core.display.HTML object>"
      ]
     },
     "metadata": {},
     "output_type": "display_data"
    },
    {
     "data": {
      "text/html": [
       " View sweep at <a href='https://wandb.ai/ma24m025-indian-institute-of-technology-madras/dakshina-seq2seq-attn/sweeps/6qdndkb6' target=\"_blank\">https://wandb.ai/ma24m025-indian-institute-of-technology-madras/dakshina-seq2seq-attn/sweeps/6qdndkb6</a>"
      ],
      "text/plain": [
       "<IPython.core.display.HTML object>"
      ]
     },
     "metadata": {},
     "output_type": "display_data"
    },
    {
     "data": {
      "text/html": [
       " View run at <a href='https://wandb.ai/ma24m025-indian-institute-of-technology-madras/dakshina-seq2seq-attn/runs/y1geb8cb' target=\"_blank\">https://wandb.ai/ma24m025-indian-institute-of-technology-madras/dakshina-seq2seq-attn/runs/y1geb8cb</a>"
      ],
      "text/plain": [
       "<IPython.core.display.HTML object>"
      ]
     },
     "metadata": {},
     "output_type": "display_data"
    },
    {
     "name": "stdout",
     "output_type": "stream",
     "text": [
      "Epoch [1/10], Val Accuracy: 0.2110\n",
      "Epoch [2/10], Val Accuracy: 0.2784\n",
      "Epoch [3/10], Val Accuracy: 0.3160\n",
      "Epoch [4/10], Val Accuracy: 0.3369\n",
      "Epoch [5/10], Val Accuracy: 0.3498\n"
     ]
    },
    {
     "data": {
      "text/html": [],
      "text/plain": [
       "<IPython.core.display.HTML object>"
      ]
     },
     "metadata": {},
     "output_type": "display_data"
    },
    {
     "data": {
      "text/html": [
       "<br>    <style><br>        .wandb-row {<br>            display: flex;<br>            flex-direction: row;<br>            flex-wrap: wrap;<br>            justify-content: flex-start;<br>            width: 100%;<br>        }<br>        .wandb-col {<br>            display: flex;<br>            flex-direction: column;<br>            flex-basis: 100%;<br>            flex: 1;<br>            padding: 10px;<br>        }<br>    </style><br><div class=\"wandb-row\"><div class=\"wandb-col\"><h3>Run history:</h3><br/><table class=\"wandb\"><tr><td>epoch</td><td>▁▃▅▆█</td></tr><tr><td>train_loss</td><td>█▃▂▁▁</td></tr><tr><td>val_accuracy</td><td>▁▄▆▇█</td></tr><tr><td>val_loss</td><td>█▅▂▃▁</td></tr></table><br/></div><div class=\"wandb-col\"><h3>Run summary:</h3><br/><table class=\"wandb\"><tr><td>epoch</td><td>5</td></tr><tr><td>train_loss</td><td>0.55163</td></tr><tr><td>val_accuracy</td><td>0.34982</td></tr><tr><td>val_loss</td><td>1.09071</td></tr></table><br/></div></div>"
      ],
      "text/plain": [
       "<IPython.core.display.HTML object>"
      ]
     },
     "metadata": {},
     "output_type": "display_data"
    },
    {
     "data": {
      "text/html": [
       " View run <strong style=\"color:#cdcd00\">emb64_hid128_enc3_dec3_drop0.2_GRU_beam3</strong> at: <a href='https://wandb.ai/ma24m025-indian-institute-of-technology-madras/dakshina-seq2seq-attn/runs/y1geb8cb' target=\"_blank\">https://wandb.ai/ma24m025-indian-institute-of-technology-madras/dakshina-seq2seq-attn/runs/y1geb8cb</a><br> View project at: <a href='https://wandb.ai/ma24m025-indian-institute-of-technology-madras/dakshina-seq2seq-attn' target=\"_blank\">https://wandb.ai/ma24m025-indian-institute-of-technology-madras/dakshina-seq2seq-attn</a><br>Synced 5 W&B file(s), 0 media file(s), 0 artifact file(s) and 1 other file(s)"
      ],
      "text/plain": [
       "<IPython.core.display.HTML object>"
      ]
     },
     "metadata": {},
     "output_type": "display_data"
    },
    {
     "data": {
      "text/html": [
       "Find logs at: <code>./wandb/run-20250518_101812-y1geb8cb/logs</code>"
      ],
      "text/plain": [
       "<IPython.core.display.HTML object>"
      ]
     },
     "metadata": {},
     "output_type": "display_data"
    },
    {
     "name": "stderr",
     "output_type": "stream",
     "text": [
      "\u001b[34m\u001b[1mwandb\u001b[0m: Agent Starting Run: kf3vxhen with config:\n",
      "\u001b[34m\u001b[1mwandb\u001b[0m: \tbeam_size: 3\n",
      "\u001b[34m\u001b[1mwandb\u001b[0m: \tcell: GRU\n",
      "\u001b[34m\u001b[1mwandb\u001b[0m: \tdecoder_layers: 3\n",
      "\u001b[34m\u001b[1mwandb\u001b[0m: \tdropout: 0.2\n",
      "\u001b[34m\u001b[1mwandb\u001b[0m: \temb_dim: 64\n",
      "\u001b[34m\u001b[1mwandb\u001b[0m: \tencoder_layers: 3\n",
      "\u001b[34m\u001b[1mwandb\u001b[0m: \thidden_dim: 256\n"
     ]
    },
    {
     "data": {
      "text/html": [
       "Tracking run with wandb version 0.19.9"
      ],
      "text/plain": [
       "<IPython.core.display.HTML object>"
      ]
     },
     "metadata": {},
     "output_type": "display_data"
    },
    {
     "data": {
      "text/html": [
       "Run data is saved locally in <code>/kaggle/working/wandb/run-20250518_104043-kf3vxhen</code>"
      ],
      "text/plain": [
       "<IPython.core.display.HTML object>"
      ]
     },
     "metadata": {},
     "output_type": "display_data"
    },
    {
     "data": {
      "text/html": [
       "Syncing run <strong><a href='https://wandb.ai/ma24m025-indian-institute-of-technology-madras/dakshina-seq2seq-attn/runs/kf3vxhen' target=\"_blank\">cool-sweep-7</a></strong> to <a href='https://wandb.ai/ma24m025-indian-institute-of-technology-madras/dakshina-seq2seq-attn' target=\"_blank\">Weights & Biases</a> (<a href='https://wandb.me/developer-guide' target=\"_blank\">docs</a>)<br>Sweep page: <a href='https://wandb.ai/ma24m025-indian-institute-of-technology-madras/dakshina-seq2seq-attn/sweeps/6qdndkb6' target=\"_blank\">https://wandb.ai/ma24m025-indian-institute-of-technology-madras/dakshina-seq2seq-attn/sweeps/6qdndkb6</a>"
      ],
      "text/plain": [
       "<IPython.core.display.HTML object>"
      ]
     },
     "metadata": {},
     "output_type": "display_data"
    },
    {
     "data": {
      "text/html": [
       " View project at <a href='https://wandb.ai/ma24m025-indian-institute-of-technology-madras/dakshina-seq2seq-attn' target=\"_blank\">https://wandb.ai/ma24m025-indian-institute-of-technology-madras/dakshina-seq2seq-attn</a>"
      ],
      "text/plain": [
       "<IPython.core.display.HTML object>"
      ]
     },
     "metadata": {},
     "output_type": "display_data"
    },
    {
     "data": {
      "text/html": [
       " View sweep at <a href='https://wandb.ai/ma24m025-indian-institute-of-technology-madras/dakshina-seq2seq-attn/sweeps/6qdndkb6' target=\"_blank\">https://wandb.ai/ma24m025-indian-institute-of-technology-madras/dakshina-seq2seq-attn/sweeps/6qdndkb6</a>"
      ],
      "text/plain": [
       "<IPython.core.display.HTML object>"
      ]
     },
     "metadata": {},
     "output_type": "display_data"
    },
    {
     "data": {
      "text/html": [
       " View run at <a href='https://wandb.ai/ma24m025-indian-institute-of-technology-madras/dakshina-seq2seq-attn/runs/kf3vxhen' target=\"_blank\">https://wandb.ai/ma24m025-indian-institute-of-technology-madras/dakshina-seq2seq-attn/runs/kf3vxhen</a>"
      ],
      "text/plain": [
       "<IPython.core.display.HTML object>"
      ]
     },
     "metadata": {},
     "output_type": "display_data"
    },
    {
     "name": "stdout",
     "output_type": "stream",
     "text": [
      "Epoch [1/10], Val Accuracy: 0.2744\n",
      "Epoch [2/10], Val Accuracy: 0.3339\n",
      "Epoch [3/10], Val Accuracy: 0.3352\n",
      "Epoch [4/10], Val Accuracy: 0.3459\n",
      "Epoch [5/10], Val Accuracy: 0.3626\n"
     ]
    },
    {
     "data": {
      "text/html": [],
      "text/plain": [
       "<IPython.core.display.HTML object>"
      ]
     },
     "metadata": {},
     "output_type": "display_data"
    },
    {
     "data": {
      "text/html": [
       "<br>    <style><br>        .wandb-row {<br>            display: flex;<br>            flex-direction: row;<br>            flex-wrap: wrap;<br>            justify-content: flex-start;<br>            width: 100%;<br>        }<br>        .wandb-col {<br>            display: flex;<br>            flex-direction: column;<br>            flex-basis: 100%;<br>            flex: 1;<br>            padding: 10px;<br>        }<br>    </style><br><div class=\"wandb-row\"><div class=\"wandb-col\"><h3>Run history:</h3><br/><table class=\"wandb\"><tr><td>epoch</td><td>▁▃▅▆█</td></tr><tr><td>train_loss</td><td>█▃▂▁▁</td></tr><tr><td>val_accuracy</td><td>▁▆▆▇█</td></tr><tr><td>val_loss</td><td>█▃▁▆▆</td></tr></table><br/></div><div class=\"wandb-col\"><h3>Run summary:</h3><br/><table class=\"wandb\"><tr><td>epoch</td><td>5</td></tr><tr><td>train_loss</td><td>0.40799</td></tr><tr><td>val_accuracy</td><td>0.36265</td></tr><tr><td>val_loss</td><td>1.15685</td></tr></table><br/></div></div>"
      ],
      "text/plain": [
       "<IPython.core.display.HTML object>"
      ]
     },
     "metadata": {},
     "output_type": "display_data"
    },
    {
     "data": {
      "text/html": [
       " View run <strong style=\"color:#cdcd00\">emb64_hid256_enc3_dec3_drop0.2_GRU_beam3</strong> at: <a href='https://wandb.ai/ma24m025-indian-institute-of-technology-madras/dakshina-seq2seq-attn/runs/kf3vxhen' target=\"_blank\">https://wandb.ai/ma24m025-indian-institute-of-technology-madras/dakshina-seq2seq-attn/runs/kf3vxhen</a><br> View project at: <a href='https://wandb.ai/ma24m025-indian-institute-of-technology-madras/dakshina-seq2seq-attn' target=\"_blank\">https://wandb.ai/ma24m025-indian-institute-of-technology-madras/dakshina-seq2seq-attn</a><br>Synced 5 W&B file(s), 0 media file(s), 0 artifact file(s) and 1 other file(s)"
      ],
      "text/plain": [
       "<IPython.core.display.HTML object>"
      ]
     },
     "metadata": {},
     "output_type": "display_data"
    },
    {
     "data": {
      "text/html": [
       "Find logs at: <code>./wandb/run-20250518_104043-kf3vxhen/logs</code>"
      ],
      "text/plain": [
       "<IPython.core.display.HTML object>"
      ]
     },
     "metadata": {},
     "output_type": "display_data"
    },
    {
     "name": "stderr",
     "output_type": "stream",
     "text": [
      "\u001b[34m\u001b[1mwandb\u001b[0m: Sweep Agent: Waiting for job.\n",
      "\u001b[34m\u001b[1mwandb\u001b[0m: Job received.\n",
      "\u001b[34m\u001b[1mwandb\u001b[0m: Agent Starting Run: igxmhdh1 with config:\n",
      "\u001b[34m\u001b[1mwandb\u001b[0m: \tbeam_size: 1\n",
      "\u001b[34m\u001b[1mwandb\u001b[0m: \tcell: RNN\n",
      "\u001b[34m\u001b[1mwandb\u001b[0m: \tdecoder_layers: 3\n",
      "\u001b[34m\u001b[1mwandb\u001b[0m: \tdropout: 0.2\n",
      "\u001b[34m\u001b[1mwandb\u001b[0m: \temb_dim: 256\n",
      "\u001b[34m\u001b[1mwandb\u001b[0m: \tencoder_layers: 2\n",
      "\u001b[34m\u001b[1mwandb\u001b[0m: \thidden_dim: 256\n"
     ]
    },
    {
     "data": {
      "text/html": [
       "Tracking run with wandb version 0.19.9"
      ],
      "text/plain": [
       "<IPython.core.display.HTML object>"
      ]
     },
     "metadata": {},
     "output_type": "display_data"
    },
    {
     "data": {
      "text/html": [
       "Run data is saved locally in <code>/kaggle/working/wandb/run-20250518_110454-igxmhdh1</code>"
      ],
      "text/plain": [
       "<IPython.core.display.HTML object>"
      ]
     },
     "metadata": {},
     "output_type": "display_data"
    },
    {
     "data": {
      "text/html": [
       "Syncing run <strong><a href='https://wandb.ai/ma24m025-indian-institute-of-technology-madras/dakshina-seq2seq-attn/runs/igxmhdh1' target=\"_blank\">woven-sweep-8</a></strong> to <a href='https://wandb.ai/ma24m025-indian-institute-of-technology-madras/dakshina-seq2seq-attn' target=\"_blank\">Weights & Biases</a> (<a href='https://wandb.me/developer-guide' target=\"_blank\">docs</a>)<br>Sweep page: <a href='https://wandb.ai/ma24m025-indian-institute-of-technology-madras/dakshina-seq2seq-attn/sweeps/6qdndkb6' target=\"_blank\">https://wandb.ai/ma24m025-indian-institute-of-technology-madras/dakshina-seq2seq-attn/sweeps/6qdndkb6</a>"
      ],
      "text/plain": [
       "<IPython.core.display.HTML object>"
      ]
     },
     "metadata": {},
     "output_type": "display_data"
    },
    {
     "data": {
      "text/html": [
       " View project at <a href='https://wandb.ai/ma24m025-indian-institute-of-technology-madras/dakshina-seq2seq-attn' target=\"_blank\">https://wandb.ai/ma24m025-indian-institute-of-technology-madras/dakshina-seq2seq-attn</a>"
      ],
      "text/plain": [
       "<IPython.core.display.HTML object>"
      ]
     },
     "metadata": {},
     "output_type": "display_data"
    },
    {
     "data": {
      "text/html": [
       " View sweep at <a href='https://wandb.ai/ma24m025-indian-institute-of-technology-madras/dakshina-seq2seq-attn/sweeps/6qdndkb6' target=\"_blank\">https://wandb.ai/ma24m025-indian-institute-of-technology-madras/dakshina-seq2seq-attn/sweeps/6qdndkb6</a>"
      ],
      "text/plain": [
       "<IPython.core.display.HTML object>"
      ]
     },
     "metadata": {},
     "output_type": "display_data"
    },
    {
     "data": {
      "text/html": [
       " View run at <a href='https://wandb.ai/ma24m025-indian-institute-of-technology-madras/dakshina-seq2seq-attn/runs/igxmhdh1' target=\"_blank\">https://wandb.ai/ma24m025-indian-institute-of-technology-madras/dakshina-seq2seq-attn/runs/igxmhdh1</a>"
      ],
      "text/plain": [
       "<IPython.core.display.HTML object>"
      ]
     },
     "metadata": {},
     "output_type": "display_data"
    },
    {
     "name": "stdout",
     "output_type": "stream",
     "text": [
      "Epoch [1/10], Val Accuracy: 0.2211\n",
      "Epoch [2/10], Val Accuracy: 0.2674\n",
      "Epoch [3/10], Val Accuracy: 0.2888\n"
     ]
    },
    {
     "data": {
      "text/html": [],
      "text/plain": [
       "<IPython.core.display.HTML object>"
      ]
     },
     "metadata": {},
     "output_type": "display_data"
    },
    {
     "data": {
      "text/html": [
       "<br>    <style><br>        .wandb-row {<br>            display: flex;<br>            flex-direction: row;<br>            flex-wrap: wrap;<br>            justify-content: flex-start;<br>            width: 100%;<br>        }<br>        .wandb-col {<br>            display: flex;<br>            flex-direction: column;<br>            flex-basis: 100%;<br>            flex: 1;<br>            padding: 10px;<br>        }<br>    </style><br><div class=\"wandb-row\"><div class=\"wandb-col\"><h3>Run history:</h3><br/><table class=\"wandb\"><tr><td>epoch</td><td>▁▅█</td></tr><tr><td>train_loss</td><td>█▂▁</td></tr><tr><td>val_accuracy</td><td>▁▆█</td></tr><tr><td>val_loss</td><td>█▃▁</td></tr></table><br/></div><div class=\"wandb-col\"><h3>Run summary:</h3><br/><table class=\"wandb\"><tr><td>epoch</td><td>3</td></tr><tr><td>train_loss</td><td>0.66298</td></tr><tr><td>val_accuracy</td><td>0.28882</td></tr><tr><td>val_loss</td><td>1.20389</td></tr></table><br/></div></div>"
      ],
      "text/plain": [
       "<IPython.core.display.HTML object>"
      ]
     },
     "metadata": {},
     "output_type": "display_data"
    },
    {
     "data": {
      "text/html": [
       " View run <strong style=\"color:#cdcd00\">emb256_hid256_enc2_dec3_drop0.2_RNN_beam1</strong> at: <a href='https://wandb.ai/ma24m025-indian-institute-of-technology-madras/dakshina-seq2seq-attn/runs/igxmhdh1' target=\"_blank\">https://wandb.ai/ma24m025-indian-institute-of-technology-madras/dakshina-seq2seq-attn/runs/igxmhdh1</a><br> View project at: <a href='https://wandb.ai/ma24m025-indian-institute-of-technology-madras/dakshina-seq2seq-attn' target=\"_blank\">https://wandb.ai/ma24m025-indian-institute-of-technology-madras/dakshina-seq2seq-attn</a><br>Synced 5 W&B file(s), 0 media file(s), 0 artifact file(s) and 0 other file(s)"
      ],
      "text/plain": [
       "<IPython.core.display.HTML object>"
      ]
     },
     "metadata": {},
     "output_type": "display_data"
    },
    {
     "data": {
      "text/html": [
       "Find logs at: <code>./wandb/run-20250518_110454-igxmhdh1/logs</code>"
      ],
      "text/plain": [
       "<IPython.core.display.HTML object>"
      ]
     },
     "metadata": {},
     "output_type": "display_data"
    },
    {
     "name": "stderr",
     "output_type": "stream",
     "text": [
      "\u001b[34m\u001b[1mwandb\u001b[0m: Agent Starting Run: mi0uujf3 with config:\n",
      "\u001b[34m\u001b[1mwandb\u001b[0m: \tbeam_size: 3\n",
      "\u001b[34m\u001b[1mwandb\u001b[0m: \tcell: LSTM\n",
      "\u001b[34m\u001b[1mwandb\u001b[0m: \tdecoder_layers: 3\n",
      "\u001b[34m\u001b[1mwandb\u001b[0m: \tdropout: 0.3\n",
      "\u001b[34m\u001b[1mwandb\u001b[0m: \temb_dim: 128\n",
      "\u001b[34m\u001b[1mwandb\u001b[0m: \tencoder_layers: 3\n",
      "\u001b[34m\u001b[1mwandb\u001b[0m: \thidden_dim: 256\n"
     ]
    },
    {
     "data": {
      "text/html": [
       "Tracking run with wandb version 0.19.9"
      ],
      "text/plain": [
       "<IPython.core.display.HTML object>"
      ]
     },
     "metadata": {},
     "output_type": "display_data"
    },
    {
     "data": {
      "text/html": [
       "Run data is saved locally in <code>/kaggle/working/wandb/run-20250518_111915-mi0uujf3</code>"
      ],
      "text/plain": [
       "<IPython.core.display.HTML object>"
      ]
     },
     "metadata": {},
     "output_type": "display_data"
    },
    {
     "data": {
      "text/html": [
       "Syncing run <strong><a href='https://wandb.ai/ma24m025-indian-institute-of-technology-madras/dakshina-seq2seq-attn/runs/mi0uujf3' target=\"_blank\">golden-sweep-9</a></strong> to <a href='https://wandb.ai/ma24m025-indian-institute-of-technology-madras/dakshina-seq2seq-attn' target=\"_blank\">Weights & Biases</a> (<a href='https://wandb.me/developer-guide' target=\"_blank\">docs</a>)<br>Sweep page: <a href='https://wandb.ai/ma24m025-indian-institute-of-technology-madras/dakshina-seq2seq-attn/sweeps/6qdndkb6' target=\"_blank\">https://wandb.ai/ma24m025-indian-institute-of-technology-madras/dakshina-seq2seq-attn/sweeps/6qdndkb6</a>"
      ],
      "text/plain": [
       "<IPython.core.display.HTML object>"
      ]
     },
     "metadata": {},
     "output_type": "display_data"
    },
    {
     "data": {
      "text/html": [
       " View project at <a href='https://wandb.ai/ma24m025-indian-institute-of-technology-madras/dakshina-seq2seq-attn' target=\"_blank\">https://wandb.ai/ma24m025-indian-institute-of-technology-madras/dakshina-seq2seq-attn</a>"
      ],
      "text/plain": [
       "<IPython.core.display.HTML object>"
      ]
     },
     "metadata": {},
     "output_type": "display_data"
    },
    {
     "data": {
      "text/html": [
       " View sweep at <a href='https://wandb.ai/ma24m025-indian-institute-of-technology-madras/dakshina-seq2seq-attn/sweeps/6qdndkb6' target=\"_blank\">https://wandb.ai/ma24m025-indian-institute-of-technology-madras/dakshina-seq2seq-attn/sweeps/6qdndkb6</a>"
      ],
      "text/plain": [
       "<IPython.core.display.HTML object>"
      ]
     },
     "metadata": {},
     "output_type": "display_data"
    },
    {
     "data": {
      "text/html": [
       " View run at <a href='https://wandb.ai/ma24m025-indian-institute-of-technology-madras/dakshina-seq2seq-attn/runs/mi0uujf3' target=\"_blank\">https://wandb.ai/ma24m025-indian-institute-of-technology-madras/dakshina-seq2seq-attn/runs/mi0uujf3</a>"
      ],
      "text/plain": [
       "<IPython.core.display.HTML object>"
      ]
     },
     "metadata": {},
     "output_type": "display_data"
    },
    {
     "name": "stdout",
     "output_type": "stream",
     "text": [
      "Epoch [1/10], Val Accuracy: 0.2377\n",
      "Epoch [2/10], Val Accuracy: 0.3142\n",
      "Epoch [3/10], Val Accuracy: 0.3482\n",
      "Epoch [4/10], Val Accuracy: 0.3795\n",
      "Epoch [5/10], Val Accuracy: 0.3714\n"
     ]
    },
    {
     "data": {
      "text/html": [],
      "text/plain": [
       "<IPython.core.display.HTML object>"
      ]
     },
     "metadata": {},
     "output_type": "display_data"
    },
    {
     "data": {
      "text/html": [
       "<br>    <style><br>        .wandb-row {<br>            display: flex;<br>            flex-direction: row;<br>            flex-wrap: wrap;<br>            justify-content: flex-start;<br>            width: 100%;<br>        }<br>        .wandb-col {<br>            display: flex;<br>            flex-direction: column;<br>            flex-basis: 100%;<br>            flex: 1;<br>            padding: 10px;<br>        }<br>    </style><br><div class=\"wandb-row\"><div class=\"wandb-col\"><h3>Run history:</h3><br/><table class=\"wandb\"><tr><td>epoch</td><td>▁▃▅▆█</td></tr><tr><td>train_loss</td><td>█▃▂▁▁</td></tr><tr><td>val_accuracy</td><td>▁▅▆██</td></tr><tr><td>val_loss</td><td>█▃▃▁▄</td></tr></table><br/></div><div class=\"wandb-col\"><h3>Run summary:</h3><br/><table class=\"wandb\"><tr><td>epoch</td><td>5</td></tr><tr><td>train_loss</td><td>0.41589</td></tr><tr><td>val_accuracy</td><td>0.37138</td></tr><tr><td>val_loss</td><td>1.13349</td></tr></table><br/></div></div>"
      ],
      "text/plain": [
       "<IPython.core.display.HTML object>"
      ]
     },
     "metadata": {},
     "output_type": "display_data"
    },
    {
     "data": {
      "text/html": [
       " View run <strong style=\"color:#cdcd00\">emb128_hid256_enc3_dec3_drop0.3_LSTM_beam3</strong> at: <a href='https://wandb.ai/ma24m025-indian-institute-of-technology-madras/dakshina-seq2seq-attn/runs/mi0uujf3' target=\"_blank\">https://wandb.ai/ma24m025-indian-institute-of-technology-madras/dakshina-seq2seq-attn/runs/mi0uujf3</a><br> View project at: <a href='https://wandb.ai/ma24m025-indian-institute-of-technology-madras/dakshina-seq2seq-attn' target=\"_blank\">https://wandb.ai/ma24m025-indian-institute-of-technology-madras/dakshina-seq2seq-attn</a><br>Synced 5 W&B file(s), 0 media file(s), 0 artifact file(s) and 1 other file(s)"
      ],
      "text/plain": [
       "<IPython.core.display.HTML object>"
      ]
     },
     "metadata": {},
     "output_type": "display_data"
    },
    {
     "data": {
      "text/html": [
       "Find logs at: <code>./wandb/run-20250518_111915-mi0uujf3/logs</code>"
      ],
      "text/plain": [
       "<IPython.core.display.HTML object>"
      ]
     },
     "metadata": {},
     "output_type": "display_data"
    },
    {
     "name": "stderr",
     "output_type": "stream",
     "text": [
      "\u001b[34m\u001b[1mwandb\u001b[0m: Agent Starting Run: 6d3p4xe0 with config:\n",
      "\u001b[34m\u001b[1mwandb\u001b[0m: \tbeam_size: 3\n",
      "\u001b[34m\u001b[1mwandb\u001b[0m: \tcell: LSTM\n",
      "\u001b[34m\u001b[1mwandb\u001b[0m: \tdecoder_layers: 3\n",
      "\u001b[34m\u001b[1mwandb\u001b[0m: \tdropout: 0.3\n",
      "\u001b[34m\u001b[1mwandb\u001b[0m: \temb_dim: 256\n",
      "\u001b[34m\u001b[1mwandb\u001b[0m: \tencoder_layers: 3\n",
      "\u001b[34m\u001b[1mwandb\u001b[0m: \thidden_dim: 256\n"
     ]
    },
    {
     "data": {
      "text/html": [
       "Tracking run with wandb version 0.19.9"
      ],
      "text/plain": [
       "<IPython.core.display.HTML object>"
      ]
     },
     "metadata": {},
     "output_type": "display_data"
    },
    {
     "data": {
      "text/html": [
       "Run data is saved locally in <code>/kaggle/working/wandb/run-20250518_114408-6d3p4xe0</code>"
      ],
      "text/plain": [
       "<IPython.core.display.HTML object>"
      ]
     },
     "metadata": {},
     "output_type": "display_data"
    },
    {
     "data": {
      "text/html": [
       "Syncing run <strong><a href='https://wandb.ai/ma24m025-indian-institute-of-technology-madras/dakshina-seq2seq-attn/runs/6d3p4xe0' target=\"_blank\">spring-sweep-10</a></strong> to <a href='https://wandb.ai/ma24m025-indian-institute-of-technology-madras/dakshina-seq2seq-attn' target=\"_blank\">Weights & Biases</a> (<a href='https://wandb.me/developer-guide' target=\"_blank\">docs</a>)<br>Sweep page: <a href='https://wandb.ai/ma24m025-indian-institute-of-technology-madras/dakshina-seq2seq-attn/sweeps/6qdndkb6' target=\"_blank\">https://wandb.ai/ma24m025-indian-institute-of-technology-madras/dakshina-seq2seq-attn/sweeps/6qdndkb6</a>"
      ],
      "text/plain": [
       "<IPython.core.display.HTML object>"
      ]
     },
     "metadata": {},
     "output_type": "display_data"
    },
    {
     "data": {
      "text/html": [
       " View project at <a href='https://wandb.ai/ma24m025-indian-institute-of-technology-madras/dakshina-seq2seq-attn' target=\"_blank\">https://wandb.ai/ma24m025-indian-institute-of-technology-madras/dakshina-seq2seq-attn</a>"
      ],
      "text/plain": [
       "<IPython.core.display.HTML object>"
      ]
     },
     "metadata": {},
     "output_type": "display_data"
    },
    {
     "data": {
      "text/html": [
       " View sweep at <a href='https://wandb.ai/ma24m025-indian-institute-of-technology-madras/dakshina-seq2seq-attn/sweeps/6qdndkb6' target=\"_blank\">https://wandb.ai/ma24m025-indian-institute-of-technology-madras/dakshina-seq2seq-attn/sweeps/6qdndkb6</a>"
      ],
      "text/plain": [
       "<IPython.core.display.HTML object>"
      ]
     },
     "metadata": {},
     "output_type": "display_data"
    },
    {
     "data": {
      "text/html": [
       " View run at <a href='https://wandb.ai/ma24m025-indian-institute-of-technology-madras/dakshina-seq2seq-attn/runs/6d3p4xe0' target=\"_blank\">https://wandb.ai/ma24m025-indian-institute-of-technology-madras/dakshina-seq2seq-attn/runs/6d3p4xe0</a>"
      ],
      "text/plain": [
       "<IPython.core.display.HTML object>"
      ]
     },
     "metadata": {},
     "output_type": "display_data"
    },
    {
     "name": "stdout",
     "output_type": "stream",
     "text": [
      "Epoch [1/10], Val Accuracy: 0.2468\n",
      "Epoch [2/10], Val Accuracy: 0.3113\n",
      "Epoch [3/10], Val Accuracy: 0.3461\n",
      "Epoch [4/10], Val Accuracy: 0.3686\n",
      "Epoch [5/10], Val Accuracy: 0.3721\n"
     ]
    },
    {
     "data": {
      "text/html": [],
      "text/plain": [
       "<IPython.core.display.HTML object>"
      ]
     },
     "metadata": {},
     "output_type": "display_data"
    },
    {
     "data": {
      "text/html": [
       "<br>    <style><br>        .wandb-row {<br>            display: flex;<br>            flex-direction: row;<br>            flex-wrap: wrap;<br>            justify-content: flex-start;<br>            width: 100%;<br>        }<br>        .wandb-col {<br>            display: flex;<br>            flex-direction: column;<br>            flex-basis: 100%;<br>            flex: 1;<br>            padding: 10px;<br>        }<br>    </style><br><div class=\"wandb-row\"><div class=\"wandb-col\"><h3>Run history:</h3><br/><table class=\"wandb\"><tr><td>epoch</td><td>▁▃▅▆█</td></tr><tr><td>train_loss</td><td>█▃▂▁▁</td></tr><tr><td>val_accuracy</td><td>▁▅▇██</td></tr><tr><td>val_loss</td><td>█▄▂▁▁</td></tr></table><br/></div><div class=\"wandb-col\"><h3>Run summary:</h3><br/><table class=\"wandb\"><tr><td>epoch</td><td>5</td></tr><tr><td>train_loss</td><td>0.43514</td></tr><tr><td>val_accuracy</td><td>0.37213</td></tr><tr><td>val_loss</td><td>1.06713</td></tr></table><br/></div></div>"
      ],
      "text/plain": [
       "<IPython.core.display.HTML object>"
      ]
     },
     "metadata": {},
     "output_type": "display_data"
    },
    {
     "data": {
      "text/html": [
       " View run <strong style=\"color:#cdcd00\">emb256_hid256_enc3_dec3_drop0.3_LSTM_beam3</strong> at: <a href='https://wandb.ai/ma24m025-indian-institute-of-technology-madras/dakshina-seq2seq-attn/runs/6d3p4xe0' target=\"_blank\">https://wandb.ai/ma24m025-indian-institute-of-technology-madras/dakshina-seq2seq-attn/runs/6d3p4xe0</a><br> View project at: <a href='https://wandb.ai/ma24m025-indian-institute-of-technology-madras/dakshina-seq2seq-attn' target=\"_blank\">https://wandb.ai/ma24m025-indian-institute-of-technology-madras/dakshina-seq2seq-attn</a><br>Synced 5 W&B file(s), 0 media file(s), 0 artifact file(s) and 1 other file(s)"
      ],
      "text/plain": [
       "<IPython.core.display.HTML object>"
      ]
     },
     "metadata": {},
     "output_type": "display_data"
    },
    {
     "data": {
      "text/html": [
       "Find logs at: <code>./wandb/run-20250518_114408-6d3p4xe0/logs</code>"
      ],
      "text/plain": [
       "<IPython.core.display.HTML object>"
      ]
     },
     "metadata": {},
     "output_type": "display_data"
    },
    {
     "name": "stderr",
     "output_type": "stream",
     "text": [
      "\u001b[34m\u001b[1mwandb\u001b[0m: Agent Starting Run: n695pv2k with config:\n",
      "\u001b[34m\u001b[1mwandb\u001b[0m: \tbeam_size: 3\n",
      "\u001b[34m\u001b[1mwandb\u001b[0m: \tcell: LSTM\n",
      "\u001b[34m\u001b[1mwandb\u001b[0m: \tdecoder_layers: 3\n",
      "\u001b[34m\u001b[1mwandb\u001b[0m: \tdropout: 0.3\n",
      "\u001b[34m\u001b[1mwandb\u001b[0m: \temb_dim: 128\n",
      "\u001b[34m\u001b[1mwandb\u001b[0m: \tencoder_layers: 3\n",
      "\u001b[34m\u001b[1mwandb\u001b[0m: \thidden_dim: 256\n"
     ]
    },
    {
     "data": {
      "text/html": [
       "Tracking run with wandb version 0.19.9"
      ],
      "text/plain": [
       "<IPython.core.display.HTML object>"
      ]
     },
     "metadata": {},
     "output_type": "display_data"
    },
    {
     "data": {
      "text/html": [
       "Run data is saved locally in <code>/kaggle/working/wandb/run-20250518_120912-n695pv2k</code>"
      ],
      "text/plain": [
       "<IPython.core.display.HTML object>"
      ]
     },
     "metadata": {},
     "output_type": "display_data"
    },
    {
     "data": {
      "text/html": [
       "Syncing run <strong><a href='https://wandb.ai/ma24m025-indian-institute-of-technology-madras/dakshina-seq2seq-attn/runs/n695pv2k' target=\"_blank\">vibrant-sweep-11</a></strong> to <a href='https://wandb.ai/ma24m025-indian-institute-of-technology-madras/dakshina-seq2seq-attn' target=\"_blank\">Weights & Biases</a> (<a href='https://wandb.me/developer-guide' target=\"_blank\">docs</a>)<br>Sweep page: <a href='https://wandb.ai/ma24m025-indian-institute-of-technology-madras/dakshina-seq2seq-attn/sweeps/6qdndkb6' target=\"_blank\">https://wandb.ai/ma24m025-indian-institute-of-technology-madras/dakshina-seq2seq-attn/sweeps/6qdndkb6</a>"
      ],
      "text/plain": [
       "<IPython.core.display.HTML object>"
      ]
     },
     "metadata": {},
     "output_type": "display_data"
    },
    {
     "data": {
      "text/html": [
       " View project at <a href='https://wandb.ai/ma24m025-indian-institute-of-technology-madras/dakshina-seq2seq-attn' target=\"_blank\">https://wandb.ai/ma24m025-indian-institute-of-technology-madras/dakshina-seq2seq-attn</a>"
      ],
      "text/plain": [
       "<IPython.core.display.HTML object>"
      ]
     },
     "metadata": {},
     "output_type": "display_data"
    },
    {
     "data": {
      "text/html": [
       " View sweep at <a href='https://wandb.ai/ma24m025-indian-institute-of-technology-madras/dakshina-seq2seq-attn/sweeps/6qdndkb6' target=\"_blank\">https://wandb.ai/ma24m025-indian-institute-of-technology-madras/dakshina-seq2seq-attn/sweeps/6qdndkb6</a>"
      ],
      "text/plain": [
       "<IPython.core.display.HTML object>"
      ]
     },
     "metadata": {},
     "output_type": "display_data"
    },
    {
     "data": {
      "text/html": [
       " View run at <a href='https://wandb.ai/ma24m025-indian-institute-of-technology-madras/dakshina-seq2seq-attn/runs/n695pv2k' target=\"_blank\">https://wandb.ai/ma24m025-indian-institute-of-technology-madras/dakshina-seq2seq-attn/runs/n695pv2k</a>"
      ],
      "text/plain": [
       "<IPython.core.display.HTML object>"
      ]
     },
     "metadata": {},
     "output_type": "display_data"
    },
    {
     "name": "stdout",
     "output_type": "stream",
     "text": [
      "Epoch [1/10], Val Accuracy: 0.2193\n",
      "Epoch [2/10], Val Accuracy: 0.3215\n",
      "Epoch [3/10], Val Accuracy: 0.3422\n",
      "Epoch [4/10], Val Accuracy: 0.3664\n",
      "Epoch [5/10], Val Accuracy: 0.3879\n"
     ]
    },
    {
     "data": {
      "text/html": [],
      "text/plain": [
       "<IPython.core.display.HTML object>"
      ]
     },
     "metadata": {},
     "output_type": "display_data"
    },
    {
     "data": {
      "text/html": [
       "<br>    <style><br>        .wandb-row {<br>            display: flex;<br>            flex-direction: row;<br>            flex-wrap: wrap;<br>            justify-content: flex-start;<br>            width: 100%;<br>        }<br>        .wandb-col {<br>            display: flex;<br>            flex-direction: column;<br>            flex-basis: 100%;<br>            flex: 1;<br>            padding: 10px;<br>        }<br>    </style><br><div class=\"wandb-row\"><div class=\"wandb-col\"><h3>Run history:</h3><br/><table class=\"wandb\"><tr><td>epoch</td><td>▁▃▅▆█</td></tr><tr><td>train_loss</td><td>█▃▂▁▁</td></tr><tr><td>val_accuracy</td><td>▁▅▆▇█</td></tr><tr><td>val_loss</td><td>█▁▂▂▁</td></tr></table><br/></div><div class=\"wandb-col\"><h3>Run summary:</h3><br/><table class=\"wandb\"><tr><td>epoch</td><td>5</td></tr><tr><td>train_loss</td><td>0.41124</td></tr><tr><td>val_accuracy</td><td>0.38787</td></tr><tr><td>val_loss</td><td>1.10571</td></tr></table><br/></div></div>"
      ],
      "text/plain": [
       "<IPython.core.display.HTML object>"
      ]
     },
     "metadata": {},
     "output_type": "display_data"
    },
    {
     "data": {
      "text/html": [
       " View run <strong style=\"color:#cdcd00\">emb128_hid256_enc3_dec3_drop0.3_LSTM_beam3</strong> at: <a href='https://wandb.ai/ma24m025-indian-institute-of-technology-madras/dakshina-seq2seq-attn/runs/n695pv2k' target=\"_blank\">https://wandb.ai/ma24m025-indian-institute-of-technology-madras/dakshina-seq2seq-attn/runs/n695pv2k</a><br> View project at: <a href='https://wandb.ai/ma24m025-indian-institute-of-technology-madras/dakshina-seq2seq-attn' target=\"_blank\">https://wandb.ai/ma24m025-indian-institute-of-technology-madras/dakshina-seq2seq-attn</a><br>Synced 5 W&B file(s), 0 media file(s), 0 artifact file(s) and 1 other file(s)"
      ],
      "text/plain": [
       "<IPython.core.display.HTML object>"
      ]
     },
     "metadata": {},
     "output_type": "display_data"
    },
    {
     "data": {
      "text/html": [
       "Find logs at: <code>./wandb/run-20250518_120912-n695pv2k/logs</code>"
      ],
      "text/plain": [
       "<IPython.core.display.HTML object>"
      ]
     },
     "metadata": {},
     "output_type": "display_data"
    },
    {
     "name": "stderr",
     "output_type": "stream",
     "text": [
      "\u001b[34m\u001b[1mwandb\u001b[0m: Sweep Agent: Waiting for job.\n",
      "\u001b[34m\u001b[1mwandb\u001b[0m: Job received.\n",
      "\u001b[34m\u001b[1mwandb\u001b[0m: Agent Starting Run: e2cfbjb8 with config:\n",
      "\u001b[34m\u001b[1mwandb\u001b[0m: \tbeam_size: 3\n",
      "\u001b[34m\u001b[1mwandb\u001b[0m: \tcell: LSTM\n",
      "\u001b[34m\u001b[1mwandb\u001b[0m: \tdecoder_layers: 3\n",
      "\u001b[34m\u001b[1mwandb\u001b[0m: \tdropout: 0.2\n",
      "\u001b[34m\u001b[1mwandb\u001b[0m: \temb_dim: 128\n",
      "\u001b[34m\u001b[1mwandb\u001b[0m: \tencoder_layers: 2\n",
      "\u001b[34m\u001b[1mwandb\u001b[0m: \thidden_dim: 256\n"
     ]
    },
    {
     "data": {
      "text/html": [
       "Tracking run with wandb version 0.19.9"
      ],
      "text/plain": [
       "<IPython.core.display.HTML object>"
      ]
     },
     "metadata": {},
     "output_type": "display_data"
    },
    {
     "data": {
      "text/html": [
       "Run data is saved locally in <code>/kaggle/working/wandb/run-20250518_123409-e2cfbjb8</code>"
      ],
      "text/plain": [
       "<IPython.core.display.HTML object>"
      ]
     },
     "metadata": {},
     "output_type": "display_data"
    },
    {
     "data": {
      "text/html": [
       "Syncing run <strong><a href='https://wandb.ai/ma24m025-indian-institute-of-technology-madras/dakshina-seq2seq-attn/runs/e2cfbjb8' target=\"_blank\">sweepy-sweep-12</a></strong> to <a href='https://wandb.ai/ma24m025-indian-institute-of-technology-madras/dakshina-seq2seq-attn' target=\"_blank\">Weights & Biases</a> (<a href='https://wandb.me/developer-guide' target=\"_blank\">docs</a>)<br>Sweep page: <a href='https://wandb.ai/ma24m025-indian-institute-of-technology-madras/dakshina-seq2seq-attn/sweeps/6qdndkb6' target=\"_blank\">https://wandb.ai/ma24m025-indian-institute-of-technology-madras/dakshina-seq2seq-attn/sweeps/6qdndkb6</a>"
      ],
      "text/plain": [
       "<IPython.core.display.HTML object>"
      ]
     },
     "metadata": {},
     "output_type": "display_data"
    },
    {
     "data": {
      "text/html": [
       " View project at <a href='https://wandb.ai/ma24m025-indian-institute-of-technology-madras/dakshina-seq2seq-attn' target=\"_blank\">https://wandb.ai/ma24m025-indian-institute-of-technology-madras/dakshina-seq2seq-attn</a>"
      ],
      "text/plain": [
       "<IPython.core.display.HTML object>"
      ]
     },
     "metadata": {},
     "output_type": "display_data"
    },
    {
     "data": {
      "text/html": [
       " View sweep at <a href='https://wandb.ai/ma24m025-indian-institute-of-technology-madras/dakshina-seq2seq-attn/sweeps/6qdndkb6' target=\"_blank\">https://wandb.ai/ma24m025-indian-institute-of-technology-madras/dakshina-seq2seq-attn/sweeps/6qdndkb6</a>"
      ],
      "text/plain": [
       "<IPython.core.display.HTML object>"
      ]
     },
     "metadata": {},
     "output_type": "display_data"
    },
    {
     "data": {
      "text/html": [
       " View run at <a href='https://wandb.ai/ma24m025-indian-institute-of-technology-madras/dakshina-seq2seq-attn/runs/e2cfbjb8' target=\"_blank\">https://wandb.ai/ma24m025-indian-institute-of-technology-madras/dakshina-seq2seq-attn/runs/e2cfbjb8</a>"
      ],
      "text/plain": [
       "<IPython.core.display.HTML object>"
      ]
     },
     "metadata": {},
     "output_type": "display_data"
    },
    {
     "name": "stdout",
     "output_type": "stream",
     "text": [
      "Epoch [1/10], Val Accuracy: 0.2494\n",
      "Epoch [2/10], Val Accuracy: 0.3306\n",
      "Epoch [3/10], Val Accuracy: 0.3654\n",
      "Epoch [4/10], Val Accuracy: 0.3667\n",
      "Epoch [5/10], Val Accuracy: 0.3915\n"
     ]
    },
    {
     "data": {
      "text/html": [],
      "text/plain": [
       "<IPython.core.display.HTML object>"
      ]
     },
     "metadata": {},
     "output_type": "display_data"
    },
    {
     "data": {
      "text/html": [
       "<br>    <style><br>        .wandb-row {<br>            display: flex;<br>            flex-direction: row;<br>            flex-wrap: wrap;<br>            justify-content: flex-start;<br>            width: 100%;<br>        }<br>        .wandb-col {<br>            display: flex;<br>            flex-direction: column;<br>            flex-basis: 100%;<br>            flex: 1;<br>            padding: 10px;<br>        }<br>    </style><br><div class=\"wandb-row\"><div class=\"wandb-col\"><h3>Run history:</h3><br/><table class=\"wandb\"><tr><td>epoch</td><td>▁▃▅▆█</td></tr><tr><td>train_loss</td><td>█▃▂▁▁</td></tr><tr><td>val_accuracy</td><td>▁▅▇▇█</td></tr><tr><td>val_loss</td><td>█▄▁▃▂</td></tr></table><br/></div><div class=\"wandb-col\"><h3>Run summary:</h3><br/><table class=\"wandb\"><tr><td>epoch</td><td>5</td></tr><tr><td>train_loss</td><td>0.38606</td></tr><tr><td>val_accuracy</td><td>0.39153</td></tr><tr><td>val_loss</td><td>1.0541</td></tr></table><br/></div></div>"
      ],
      "text/plain": [
       "<IPython.core.display.HTML object>"
      ]
     },
     "metadata": {},
     "output_type": "display_data"
    },
    {
     "data": {
      "text/html": [
       " View run <strong style=\"color:#cdcd00\">emb128_hid256_enc2_dec3_drop0.2_LSTM_beam3</strong> at: <a href='https://wandb.ai/ma24m025-indian-institute-of-technology-madras/dakshina-seq2seq-attn/runs/e2cfbjb8' target=\"_blank\">https://wandb.ai/ma24m025-indian-institute-of-technology-madras/dakshina-seq2seq-attn/runs/e2cfbjb8</a><br> View project at: <a href='https://wandb.ai/ma24m025-indian-institute-of-technology-madras/dakshina-seq2seq-attn' target=\"_blank\">https://wandb.ai/ma24m025-indian-institute-of-technology-madras/dakshina-seq2seq-attn</a><br>Synced 5 W&B file(s), 0 media file(s), 0 artifact file(s) and 1 other file(s)"
      ],
      "text/plain": [
       "<IPython.core.display.HTML object>"
      ]
     },
     "metadata": {},
     "output_type": "display_data"
    },
    {
     "data": {
      "text/html": [
       "Find logs at: <code>./wandb/run-20250518_123409-e2cfbjb8/logs</code>"
      ],
      "text/plain": [
       "<IPython.core.display.HTML object>"
      ]
     },
     "metadata": {},
     "output_type": "display_data"
    },
    {
     "name": "stderr",
     "output_type": "stream",
     "text": [
      "\u001b[34m\u001b[1mwandb\u001b[0m: Agent Starting Run: kork574k with config:\n",
      "\u001b[34m\u001b[1mwandb\u001b[0m: \tbeam_size: 3\n",
      "\u001b[34m\u001b[1mwandb\u001b[0m: \tcell: LSTM\n",
      "\u001b[34m\u001b[1mwandb\u001b[0m: \tdecoder_layers: 3\n",
      "\u001b[34m\u001b[1mwandb\u001b[0m: \tdropout: 0.3\n",
      "\u001b[34m\u001b[1mwandb\u001b[0m: \temb_dim: 32\n",
      "\u001b[34m\u001b[1mwandb\u001b[0m: \tencoder_layers: 2\n",
      "\u001b[34m\u001b[1mwandb\u001b[0m: \thidden_dim: 256\n"
     ]
    },
    {
     "data": {
      "text/html": [
       "Tracking run with wandb version 0.19.9"
      ],
      "text/plain": [
       "<IPython.core.display.HTML object>"
      ]
     },
     "metadata": {},
     "output_type": "display_data"
    },
    {
     "data": {
      "text/html": [
       "Run data is saved locally in <code>/kaggle/working/wandb/run-20250518_125902-kork574k</code>"
      ],
      "text/plain": [
       "<IPython.core.display.HTML object>"
      ]
     },
     "metadata": {},
     "output_type": "display_data"
    },
    {
     "data": {
      "text/html": [
       "Syncing run <strong><a href='https://wandb.ai/ma24m025-indian-institute-of-technology-madras/dakshina-seq2seq-attn/runs/kork574k' target=\"_blank\">solar-sweep-13</a></strong> to <a href='https://wandb.ai/ma24m025-indian-institute-of-technology-madras/dakshina-seq2seq-attn' target=\"_blank\">Weights & Biases</a> (<a href='https://wandb.me/developer-guide' target=\"_blank\">docs</a>)<br>Sweep page: <a href='https://wandb.ai/ma24m025-indian-institute-of-technology-madras/dakshina-seq2seq-attn/sweeps/6qdndkb6' target=\"_blank\">https://wandb.ai/ma24m025-indian-institute-of-technology-madras/dakshina-seq2seq-attn/sweeps/6qdndkb6</a>"
      ],
      "text/plain": [
       "<IPython.core.display.HTML object>"
      ]
     },
     "metadata": {},
     "output_type": "display_data"
    },
    {
     "data": {
      "text/html": [
       " View project at <a href='https://wandb.ai/ma24m025-indian-institute-of-technology-madras/dakshina-seq2seq-attn' target=\"_blank\">https://wandb.ai/ma24m025-indian-institute-of-technology-madras/dakshina-seq2seq-attn</a>"
      ],
      "text/plain": [
       "<IPython.core.display.HTML object>"
      ]
     },
     "metadata": {},
     "output_type": "display_data"
    },
    {
     "data": {
      "text/html": [
       " View sweep at <a href='https://wandb.ai/ma24m025-indian-institute-of-technology-madras/dakshina-seq2seq-attn/sweeps/6qdndkb6' target=\"_blank\">https://wandb.ai/ma24m025-indian-institute-of-technology-madras/dakshina-seq2seq-attn/sweeps/6qdndkb6</a>"
      ],
      "text/plain": [
       "<IPython.core.display.HTML object>"
      ]
     },
     "metadata": {},
     "output_type": "display_data"
    },
    {
     "data": {
      "text/html": [
       " View run at <a href='https://wandb.ai/ma24m025-indian-institute-of-technology-madras/dakshina-seq2seq-attn/runs/kork574k' target=\"_blank\">https://wandb.ai/ma24m025-indian-institute-of-technology-madras/dakshina-seq2seq-attn/runs/kork574k</a>"
      ],
      "text/plain": [
       "<IPython.core.display.HTML object>"
      ]
     },
     "metadata": {},
     "output_type": "display_data"
    },
    {
     "name": "stdout",
     "output_type": "stream",
     "text": [
      "Epoch [1/10], Val Accuracy: 0.2021\n",
      "Epoch [2/10], Val Accuracy: 0.2804\n",
      "Epoch [3/10], Val Accuracy: 0.3301\n"
     ]
    },
    {
     "data": {
      "text/html": [],
      "text/plain": [
       "<IPython.core.display.HTML object>"
      ]
     },
     "metadata": {},
     "output_type": "display_data"
    },
    {
     "data": {
      "text/html": [
       "<br>    <style><br>        .wandb-row {<br>            display: flex;<br>            flex-direction: row;<br>            flex-wrap: wrap;<br>            justify-content: flex-start;<br>            width: 100%;<br>        }<br>        .wandb-col {<br>            display: flex;<br>            flex-direction: column;<br>            flex-basis: 100%;<br>            flex: 1;<br>            padding: 10px;<br>        }<br>    </style><br><div class=\"wandb-row\"><div class=\"wandb-col\"><h3>Run history:</h3><br/><table class=\"wandb\"><tr><td>epoch</td><td>▁▅█</td></tr><tr><td>train_loss</td><td>█▂▁</td></tr><tr><td>val_accuracy</td><td>▁▅█</td></tr><tr><td>val_loss</td><td>█▂▁</td></tr></table><br/></div><div class=\"wandb-col\"><h3>Run summary:</h3><br/><table class=\"wandb\"><tr><td>epoch</td><td>3</td></tr><tr><td>train_loss</td><td>0.63742</td></tr><tr><td>val_accuracy</td><td>0.3301</td></tr><tr><td>val_loss</td><td>1.06892</td></tr></table><br/></div></div>"
      ],
      "text/plain": [
       "<IPython.core.display.HTML object>"
      ]
     },
     "metadata": {},
     "output_type": "display_data"
    },
    {
     "data": {
      "text/html": [
       " View run <strong style=\"color:#cdcd00\">emb32_hid256_enc2_dec3_drop0.3_LSTM_beam3</strong> at: <a href='https://wandb.ai/ma24m025-indian-institute-of-technology-madras/dakshina-seq2seq-attn/runs/kork574k' target=\"_blank\">https://wandb.ai/ma24m025-indian-institute-of-technology-madras/dakshina-seq2seq-attn/runs/kork574k</a><br> View project at: <a href='https://wandb.ai/ma24m025-indian-institute-of-technology-madras/dakshina-seq2seq-attn' target=\"_blank\">https://wandb.ai/ma24m025-indian-institute-of-technology-madras/dakshina-seq2seq-attn</a><br>Synced 5 W&B file(s), 0 media file(s), 0 artifact file(s) and 0 other file(s)"
      ],
      "text/plain": [
       "<IPython.core.display.HTML object>"
      ]
     },
     "metadata": {},
     "output_type": "display_data"
    },
    {
     "data": {
      "text/html": [
       "Find logs at: <code>./wandb/run-20250518_125902-kork574k/logs</code>"
      ],
      "text/plain": [
       "<IPython.core.display.HTML object>"
      ]
     },
     "metadata": {},
     "output_type": "display_data"
    },
    {
     "name": "stderr",
     "output_type": "stream",
     "text": [
      "\u001b[34m\u001b[1mwandb\u001b[0m: Agent Starting Run: rwryotm9 with config:\n",
      "\u001b[34m\u001b[1mwandb\u001b[0m: \tbeam_size: 5\n",
      "\u001b[34m\u001b[1mwandb\u001b[0m: \tcell: LSTM\n",
      "\u001b[34m\u001b[1mwandb\u001b[0m: \tdecoder_layers: 3\n",
      "\u001b[34m\u001b[1mwandb\u001b[0m: \tdropout: 0.2\n",
      "\u001b[34m\u001b[1mwandb\u001b[0m: \temb_dim: 128\n",
      "\u001b[34m\u001b[1mwandb\u001b[0m: \tencoder_layers: 3\n",
      "\u001b[34m\u001b[1mwandb\u001b[0m: \thidden_dim: 256\n"
     ]
    },
    {
     "data": {
      "text/html": [
       "Tracking run with wandb version 0.19.9"
      ],
      "text/plain": [
       "<IPython.core.display.HTML object>"
      ]
     },
     "metadata": {},
     "output_type": "display_data"
    },
    {
     "data": {
      "text/html": [
       "Run data is saved locally in <code>/kaggle/working/wandb/run-20250518_131514-rwryotm9</code>"
      ],
      "text/plain": [
       "<IPython.core.display.HTML object>"
      ]
     },
     "metadata": {},
     "output_type": "display_data"
    },
    {
     "data": {
      "text/html": [
       "Syncing run <strong><a href='https://wandb.ai/ma24m025-indian-institute-of-technology-madras/dakshina-seq2seq-attn/runs/rwryotm9' target=\"_blank\">dandy-sweep-14</a></strong> to <a href='https://wandb.ai/ma24m025-indian-institute-of-technology-madras/dakshina-seq2seq-attn' target=\"_blank\">Weights & Biases</a> (<a href='https://wandb.me/developer-guide' target=\"_blank\">docs</a>)<br>Sweep page: <a href='https://wandb.ai/ma24m025-indian-institute-of-technology-madras/dakshina-seq2seq-attn/sweeps/6qdndkb6' target=\"_blank\">https://wandb.ai/ma24m025-indian-institute-of-technology-madras/dakshina-seq2seq-attn/sweeps/6qdndkb6</a>"
      ],
      "text/plain": [
       "<IPython.core.display.HTML object>"
      ]
     },
     "metadata": {},
     "output_type": "display_data"
    },
    {
     "data": {
      "text/html": [
       " View project at <a href='https://wandb.ai/ma24m025-indian-institute-of-technology-madras/dakshina-seq2seq-attn' target=\"_blank\">https://wandb.ai/ma24m025-indian-institute-of-technology-madras/dakshina-seq2seq-attn</a>"
      ],
      "text/plain": [
       "<IPython.core.display.HTML object>"
      ]
     },
     "metadata": {},
     "output_type": "display_data"
    },
    {
     "data": {
      "text/html": [
       " View sweep at <a href='https://wandb.ai/ma24m025-indian-institute-of-technology-madras/dakshina-seq2seq-attn/sweeps/6qdndkb6' target=\"_blank\">https://wandb.ai/ma24m025-indian-institute-of-technology-madras/dakshina-seq2seq-attn/sweeps/6qdndkb6</a>"
      ],
      "text/plain": [
       "<IPython.core.display.HTML object>"
      ]
     },
     "metadata": {},
     "output_type": "display_data"
    },
    {
     "data": {
      "text/html": [
       " View run at <a href='https://wandb.ai/ma24m025-indian-institute-of-technology-madras/dakshina-seq2seq-attn/runs/rwryotm9' target=\"_blank\">https://wandb.ai/ma24m025-indian-institute-of-technology-madras/dakshina-seq2seq-attn/runs/rwryotm9</a>"
      ],
      "text/plain": [
       "<IPython.core.display.HTML object>"
      ]
     },
     "metadata": {},
     "output_type": "display_data"
    },
    {
     "name": "stdout",
     "output_type": "stream",
     "text": [
      "Epoch [1/10], Val Accuracy: 0.2449\n",
      "Epoch [2/10], Val Accuracy: 0.3368\n",
      "Epoch [3/10], Val Accuracy: 0.3570\n",
      "Epoch [4/10], Val Accuracy: 0.3822\n",
      "Epoch [5/10], Val Accuracy: 0.3862\n"
     ]
    },
    {
     "data": {
      "text/html": [],
      "text/plain": [
       "<IPython.core.display.HTML object>"
      ]
     },
     "metadata": {},
     "output_type": "display_data"
    },
    {
     "data": {
      "text/html": [
       "<br>    <style><br>        .wandb-row {<br>            display: flex;<br>            flex-direction: row;<br>            flex-wrap: wrap;<br>            justify-content: flex-start;<br>            width: 100%;<br>        }<br>        .wandb-col {<br>            display: flex;<br>            flex-direction: column;<br>            flex-basis: 100%;<br>            flex: 1;<br>            padding: 10px;<br>        }<br>    </style><br><div class=\"wandb-row\"><div class=\"wandb-col\"><h3>Run history:</h3><br/><table class=\"wandb\"><tr><td>epoch</td><td>▁▃▅▆█</td></tr><tr><td>train_loss</td><td>█▃▂▁▁</td></tr><tr><td>val_accuracy</td><td>▁▆▇██</td></tr><tr><td>val_loss</td><td>█▃▁▁▄</td></tr></table><br/></div><div class=\"wandb-col\"><h3>Run summary:</h3><br/><table class=\"wandb\"><tr><td>epoch</td><td>5</td></tr><tr><td>train_loss</td><td>0.36771</td></tr><tr><td>val_accuracy</td><td>0.38625</td></tr><tr><td>val_loss</td><td>1.14646</td></tr></table><br/></div></div>"
      ],
      "text/plain": [
       "<IPython.core.display.HTML object>"
      ]
     },
     "metadata": {},
     "output_type": "display_data"
    },
    {
     "data": {
      "text/html": [
       " View run <strong style=\"color:#cdcd00\">emb128_hid256_enc3_dec3_drop0.2_LSTM_beam5</strong> at: <a href='https://wandb.ai/ma24m025-indian-institute-of-technology-madras/dakshina-seq2seq-attn/runs/rwryotm9' target=\"_blank\">https://wandb.ai/ma24m025-indian-institute-of-technology-madras/dakshina-seq2seq-attn/runs/rwryotm9</a><br> View project at: <a href='https://wandb.ai/ma24m025-indian-institute-of-technology-madras/dakshina-seq2seq-attn' target=\"_blank\">https://wandb.ai/ma24m025-indian-institute-of-technology-madras/dakshina-seq2seq-attn</a><br>Synced 5 W&B file(s), 0 media file(s), 0 artifact file(s) and 1 other file(s)"
      ],
      "text/plain": [
       "<IPython.core.display.HTML object>"
      ]
     },
     "metadata": {},
     "output_type": "display_data"
    },
    {
     "data": {
      "text/html": [
       "Find logs at: <code>./wandb/run-20250518_131514-rwryotm9/logs</code>"
      ],
      "text/plain": [
       "<IPython.core.display.HTML object>"
      ]
     },
     "metadata": {},
     "output_type": "display_data"
    },
    {
     "name": "stderr",
     "output_type": "stream",
     "text": [
      "\u001b[34m\u001b[1mwandb\u001b[0m: Agent Starting Run: jg5edyqg with config:\n",
      "\u001b[34m\u001b[1mwandb\u001b[0m: \tbeam_size: 3\n",
      "\u001b[34m\u001b[1mwandb\u001b[0m: \tcell: LSTM\n",
      "\u001b[34m\u001b[1mwandb\u001b[0m: \tdecoder_layers: 3\n",
      "\u001b[34m\u001b[1mwandb\u001b[0m: \tdropout: 0.2\n",
      "\u001b[34m\u001b[1mwandb\u001b[0m: \temb_dim: 128\n",
      "\u001b[34m\u001b[1mwandb\u001b[0m: \tencoder_layers: 3\n",
      "\u001b[34m\u001b[1mwandb\u001b[0m: \thidden_dim: 128\n"
     ]
    },
    {
     "data": {
      "text/html": [
       "Tracking run with wandb version 0.19.9"
      ],
      "text/plain": [
       "<IPython.core.display.HTML object>"
      ]
     },
     "metadata": {},
     "output_type": "display_data"
    },
    {
     "data": {
      "text/html": [
       "Run data is saved locally in <code>/kaggle/working/wandb/run-20250518_134017-jg5edyqg</code>"
      ],
      "text/plain": [
       "<IPython.core.display.HTML object>"
      ]
     },
     "metadata": {},
     "output_type": "display_data"
    },
    {
     "data": {
      "text/html": [
       "Syncing run <strong><a href='https://wandb.ai/ma24m025-indian-institute-of-technology-madras/dakshina-seq2seq-attn/runs/jg5edyqg' target=\"_blank\">confused-sweep-15</a></strong> to <a href='https://wandb.ai/ma24m025-indian-institute-of-technology-madras/dakshina-seq2seq-attn' target=\"_blank\">Weights & Biases</a> (<a href='https://wandb.me/developer-guide' target=\"_blank\">docs</a>)<br>Sweep page: <a href='https://wandb.ai/ma24m025-indian-institute-of-technology-madras/dakshina-seq2seq-attn/sweeps/6qdndkb6' target=\"_blank\">https://wandb.ai/ma24m025-indian-institute-of-technology-madras/dakshina-seq2seq-attn/sweeps/6qdndkb6</a>"
      ],
      "text/plain": [
       "<IPython.core.display.HTML object>"
      ]
     },
     "metadata": {},
     "output_type": "display_data"
    },
    {
     "data": {
      "text/html": [
       " View project at <a href='https://wandb.ai/ma24m025-indian-institute-of-technology-madras/dakshina-seq2seq-attn' target=\"_blank\">https://wandb.ai/ma24m025-indian-institute-of-technology-madras/dakshina-seq2seq-attn</a>"
      ],
      "text/plain": [
       "<IPython.core.display.HTML object>"
      ]
     },
     "metadata": {},
     "output_type": "display_data"
    },
    {
     "data": {
      "text/html": [
       " View sweep at <a href='https://wandb.ai/ma24m025-indian-institute-of-technology-madras/dakshina-seq2seq-attn/sweeps/6qdndkb6' target=\"_blank\">https://wandb.ai/ma24m025-indian-institute-of-technology-madras/dakshina-seq2seq-attn/sweeps/6qdndkb6</a>"
      ],
      "text/plain": [
       "<IPython.core.display.HTML object>"
      ]
     },
     "metadata": {},
     "output_type": "display_data"
    },
    {
     "data": {
      "text/html": [
       " View run at <a href='https://wandb.ai/ma24m025-indian-institute-of-technology-madras/dakshina-seq2seq-attn/runs/jg5edyqg' target=\"_blank\">https://wandb.ai/ma24m025-indian-institute-of-technology-madras/dakshina-seq2seq-attn/runs/jg5edyqg</a>"
      ],
      "text/plain": [
       "<IPython.core.display.HTML object>"
      ]
     },
     "metadata": {},
     "output_type": "display_data"
    },
    {
     "name": "stdout",
     "output_type": "stream",
     "text": [
      "Epoch [1/10], Val Accuracy: 0.1661\n",
      "Epoch [2/10], Val Accuracy: 0.2530\n",
      "Epoch [3/10], Val Accuracy: 0.3013\n"
     ]
    },
    {
     "data": {
      "text/html": [],
      "text/plain": [
       "<IPython.core.display.HTML object>"
      ]
     },
     "metadata": {},
     "output_type": "display_data"
    },
    {
     "data": {
      "text/html": [
       "<br>    <style><br>        .wandb-row {<br>            display: flex;<br>            flex-direction: row;<br>            flex-wrap: wrap;<br>            justify-content: flex-start;<br>            width: 100%;<br>        }<br>        .wandb-col {<br>            display: flex;<br>            flex-direction: column;<br>            flex-basis: 100%;<br>            flex: 1;<br>            padding: 10px;<br>        }<br>    </style><br><div class=\"wandb-row\"><div class=\"wandb-col\"><h3>Run history:</h3><br/><table class=\"wandb\"><tr><td>epoch</td><td>▁▅█</td></tr><tr><td>train_loss</td><td>█▂▁</td></tr><tr><td>val_accuracy</td><td>▁▆█</td></tr><tr><td>val_loss</td><td>█▄▁</td></tr></table><br/></div><div class=\"wandb-col\"><h3>Run summary:</h3><br/><table class=\"wandb\"><tr><td>epoch</td><td>3</td></tr><tr><td>train_loss</td><td>0.71823</td></tr><tr><td>val_accuracy</td><td>0.30133</td></tr><tr><td>val_loss</td><td>1.13158</td></tr></table><br/></div></div>"
      ],
      "text/plain": [
       "<IPython.core.display.HTML object>"
      ]
     },
     "metadata": {},
     "output_type": "display_data"
    },
    {
     "data": {
      "text/html": [
       " View run <strong style=\"color:#cdcd00\">emb128_hid128_enc3_dec3_drop0.2_LSTM_beam3</strong> at: <a href='https://wandb.ai/ma24m025-indian-institute-of-technology-madras/dakshina-seq2seq-attn/runs/jg5edyqg' target=\"_blank\">https://wandb.ai/ma24m025-indian-institute-of-technology-madras/dakshina-seq2seq-attn/runs/jg5edyqg</a><br> View project at: <a href='https://wandb.ai/ma24m025-indian-institute-of-technology-madras/dakshina-seq2seq-attn' target=\"_blank\">https://wandb.ai/ma24m025-indian-institute-of-technology-madras/dakshina-seq2seq-attn</a><br>Synced 5 W&B file(s), 0 media file(s), 0 artifact file(s) and 0 other file(s)"
      ],
      "text/plain": [
       "<IPython.core.display.HTML object>"
      ]
     },
     "metadata": {},
     "output_type": "display_data"
    },
    {
     "data": {
      "text/html": [
       "Find logs at: <code>./wandb/run-20250518_134017-jg5edyqg/logs</code>"
      ],
      "text/plain": [
       "<IPython.core.display.HTML object>"
      ]
     },
     "metadata": {},
     "output_type": "display_data"
    },
    {
     "name": "stderr",
     "output_type": "stream",
     "text": [
      "\u001b[34m\u001b[1mwandb\u001b[0m: Agent Starting Run: x62l9lta with config:\n",
      "\u001b[34m\u001b[1mwandb\u001b[0m: \tbeam_size: 3\n",
      "\u001b[34m\u001b[1mwandb\u001b[0m: \tcell: GRU\n",
      "\u001b[34m\u001b[1mwandb\u001b[0m: \tdecoder_layers: 3\n",
      "\u001b[34m\u001b[1mwandb\u001b[0m: \tdropout: 0.3\n",
      "\u001b[34m\u001b[1mwandb\u001b[0m: \temb_dim: 128\n",
      "\u001b[34m\u001b[1mwandb\u001b[0m: \tencoder_layers: 2\n",
      "\u001b[34m\u001b[1mwandb\u001b[0m: \thidden_dim: 256\n"
     ]
    },
    {
     "data": {
      "text/html": [
       "Tracking run with wandb version 0.19.9"
      ],
      "text/plain": [
       "<IPython.core.display.HTML object>"
      ]
     },
     "metadata": {},
     "output_type": "display_data"
    },
    {
     "data": {
      "text/html": [
       "Run data is saved locally in <code>/kaggle/working/wandb/run-20250518_135513-x62l9lta</code>"
      ],
      "text/plain": [
       "<IPython.core.display.HTML object>"
      ]
     },
     "metadata": {},
     "output_type": "display_data"
    },
    {
     "data": {
      "text/html": [
       "Syncing run <strong><a href='https://wandb.ai/ma24m025-indian-institute-of-technology-madras/dakshina-seq2seq-attn/runs/x62l9lta' target=\"_blank\">earnest-sweep-16</a></strong> to <a href='https://wandb.ai/ma24m025-indian-institute-of-technology-madras/dakshina-seq2seq-attn' target=\"_blank\">Weights & Biases</a> (<a href='https://wandb.me/developer-guide' target=\"_blank\">docs</a>)<br>Sweep page: <a href='https://wandb.ai/ma24m025-indian-institute-of-technology-madras/dakshina-seq2seq-attn/sweeps/6qdndkb6' target=\"_blank\">https://wandb.ai/ma24m025-indian-institute-of-technology-madras/dakshina-seq2seq-attn/sweeps/6qdndkb6</a>"
      ],
      "text/plain": [
       "<IPython.core.display.HTML object>"
      ]
     },
     "metadata": {},
     "output_type": "display_data"
    },
    {
     "data": {
      "text/html": [
       " View project at <a href='https://wandb.ai/ma24m025-indian-institute-of-technology-madras/dakshina-seq2seq-attn' target=\"_blank\">https://wandb.ai/ma24m025-indian-institute-of-technology-madras/dakshina-seq2seq-attn</a>"
      ],
      "text/plain": [
       "<IPython.core.display.HTML object>"
      ]
     },
     "metadata": {},
     "output_type": "display_data"
    },
    {
     "data": {
      "text/html": [
       " View sweep at <a href='https://wandb.ai/ma24m025-indian-institute-of-technology-madras/dakshina-seq2seq-attn/sweeps/6qdndkb6' target=\"_blank\">https://wandb.ai/ma24m025-indian-institute-of-technology-madras/dakshina-seq2seq-attn/sweeps/6qdndkb6</a>"
      ],
      "text/plain": [
       "<IPython.core.display.HTML object>"
      ]
     },
     "metadata": {},
     "output_type": "display_data"
    },
    {
     "data": {
      "text/html": [
       " View run at <a href='https://wandb.ai/ma24m025-indian-institute-of-technology-madras/dakshina-seq2seq-attn/runs/x62l9lta' target=\"_blank\">https://wandb.ai/ma24m025-indian-institute-of-technology-madras/dakshina-seq2seq-attn/runs/x62l9lta</a>"
      ],
      "text/plain": [
       "<IPython.core.display.HTML object>"
      ]
     },
     "metadata": {},
     "output_type": "display_data"
    },
    {
     "name": "stdout",
     "output_type": "stream",
     "text": [
      "Epoch [1/10], Val Accuracy: 0.2413\n",
      "Epoch [2/10], Val Accuracy: 0.3134\n",
      "Epoch [3/10], Val Accuracy: 0.3395\n"
     ]
    },
    {
     "data": {
      "text/html": [],
      "text/plain": [
       "<IPython.core.display.HTML object>"
      ]
     },
     "metadata": {},
     "output_type": "display_data"
    },
    {
     "data": {
      "text/html": [
       "<br>    <style><br>        .wandb-row {<br>            display: flex;<br>            flex-direction: row;<br>            flex-wrap: wrap;<br>            justify-content: flex-start;<br>            width: 100%;<br>        }<br>        .wandb-col {<br>            display: flex;<br>            flex-direction: column;<br>            flex-basis: 100%;<br>            flex: 1;<br>            padding: 10px;<br>        }<br>    </style><br><div class=\"wandb-row\"><div class=\"wandb-col\"><h3>Run history:</h3><br/><table class=\"wandb\"><tr><td>epoch</td><td>▁▅█</td></tr><tr><td>train_loss</td><td>█▂▁</td></tr><tr><td>val_accuracy</td><td>▁▆█</td></tr><tr><td>val_loss</td><td>█▃▁</td></tr></table><br/></div><div class=\"wandb-col\"><h3>Run summary:</h3><br/><table class=\"wandb\"><tr><td>epoch</td><td>3</td></tr><tr><td>train_loss</td><td>0.59547</td></tr><tr><td>val_accuracy</td><td>0.33948</td></tr><tr><td>val_loss</td><td>1.07042</td></tr></table><br/></div></div>"
      ],
      "text/plain": [
       "<IPython.core.display.HTML object>"
      ]
     },
     "metadata": {},
     "output_type": "display_data"
    },
    {
     "data": {
      "text/html": [
       " View run <strong style=\"color:#cdcd00\">emb128_hid256_enc2_dec3_drop0.3_GRU_beam3</strong> at: <a href='https://wandb.ai/ma24m025-indian-institute-of-technology-madras/dakshina-seq2seq-attn/runs/x62l9lta' target=\"_blank\">https://wandb.ai/ma24m025-indian-institute-of-technology-madras/dakshina-seq2seq-attn/runs/x62l9lta</a><br> View project at: <a href='https://wandb.ai/ma24m025-indian-institute-of-technology-madras/dakshina-seq2seq-attn' target=\"_blank\">https://wandb.ai/ma24m025-indian-institute-of-technology-madras/dakshina-seq2seq-attn</a><br>Synced 5 W&B file(s), 0 media file(s), 0 artifact file(s) and 0 other file(s)"
      ],
      "text/plain": [
       "<IPython.core.display.HTML object>"
      ]
     },
     "metadata": {},
     "output_type": "display_data"
    },
    {
     "data": {
      "text/html": [
       "Find logs at: <code>./wandb/run-20250518_135513-x62l9lta/logs</code>"
      ],
      "text/plain": [
       "<IPython.core.display.HTML object>"
      ]
     },
     "metadata": {},
     "output_type": "display_data"
    },
    {
     "name": "stderr",
     "output_type": "stream",
     "text": [
      "\u001b[34m\u001b[1mwandb\u001b[0m: Agent Starting Run: 6dcvolmr with config:\n",
      "\u001b[34m\u001b[1mwandb\u001b[0m: \tbeam_size: 3\n",
      "\u001b[34m\u001b[1mwandb\u001b[0m: \tcell: LSTM\n",
      "\u001b[34m\u001b[1mwandb\u001b[0m: \tdecoder_layers: 3\n",
      "\u001b[34m\u001b[1mwandb\u001b[0m: \tdropout: 0.3\n",
      "\u001b[34m\u001b[1mwandb\u001b[0m: \temb_dim: 128\n",
      "\u001b[34m\u001b[1mwandb\u001b[0m: \tencoder_layers: 2\n",
      "\u001b[34m\u001b[1mwandb\u001b[0m: \thidden_dim: 256\n"
     ]
    },
    {
     "data": {
      "text/html": [
       "Tracking run with wandb version 0.19.9"
      ],
      "text/plain": [
       "<IPython.core.display.HTML object>"
      ]
     },
     "metadata": {},
     "output_type": "display_data"
    },
    {
     "data": {
      "text/html": [
       "Run data is saved locally in <code>/kaggle/working/wandb/run-20250518_141015-6dcvolmr</code>"
      ],
      "text/plain": [
       "<IPython.core.display.HTML object>"
      ]
     },
     "metadata": {},
     "output_type": "display_data"
    },
    {
     "data": {
      "text/html": [
       "Syncing run <strong><a href='https://wandb.ai/ma24m025-indian-institute-of-technology-madras/dakshina-seq2seq-attn/runs/6dcvolmr' target=\"_blank\">efficient-sweep-17</a></strong> to <a href='https://wandb.ai/ma24m025-indian-institute-of-technology-madras/dakshina-seq2seq-attn' target=\"_blank\">Weights & Biases</a> (<a href='https://wandb.me/developer-guide' target=\"_blank\">docs</a>)<br>Sweep page: <a href='https://wandb.ai/ma24m025-indian-institute-of-technology-madras/dakshina-seq2seq-attn/sweeps/6qdndkb6' target=\"_blank\">https://wandb.ai/ma24m025-indian-institute-of-technology-madras/dakshina-seq2seq-attn/sweeps/6qdndkb6</a>"
      ],
      "text/plain": [
       "<IPython.core.display.HTML object>"
      ]
     },
     "metadata": {},
     "output_type": "display_data"
    },
    {
     "data": {
      "text/html": [
       " View project at <a href='https://wandb.ai/ma24m025-indian-institute-of-technology-madras/dakshina-seq2seq-attn' target=\"_blank\">https://wandb.ai/ma24m025-indian-institute-of-technology-madras/dakshina-seq2seq-attn</a>"
      ],
      "text/plain": [
       "<IPython.core.display.HTML object>"
      ]
     },
     "metadata": {},
     "output_type": "display_data"
    },
    {
     "data": {
      "text/html": [
       " View sweep at <a href='https://wandb.ai/ma24m025-indian-institute-of-technology-madras/dakshina-seq2seq-attn/sweeps/6qdndkb6' target=\"_blank\">https://wandb.ai/ma24m025-indian-institute-of-technology-madras/dakshina-seq2seq-attn/sweeps/6qdndkb6</a>"
      ],
      "text/plain": [
       "<IPython.core.display.HTML object>"
      ]
     },
     "metadata": {},
     "output_type": "display_data"
    },
    {
     "data": {
      "text/html": [
       " View run at <a href='https://wandb.ai/ma24m025-indian-institute-of-technology-madras/dakshina-seq2seq-attn/runs/6dcvolmr' target=\"_blank\">https://wandb.ai/ma24m025-indian-institute-of-technology-madras/dakshina-seq2seq-attn/runs/6dcvolmr</a>"
      ],
      "text/plain": [
       "<IPython.core.display.HTML object>"
      ]
     },
     "metadata": {},
     "output_type": "display_data"
    },
    {
     "name": "stderr",
     "output_type": "stream",
     "text": [
      "\u001b[34m\u001b[1mwandb\u001b[0m: Ctrl + C detected. Stopping sweep.\n"
     ]
    },
    {
     "name": "stdout",
     "output_type": "stream",
     "text": [
      "Epoch [1/10], Val Accuracy: 0.2557\n",
      "Epoch [2/10], Val Accuracy: 0.3104\n",
      "Epoch [3/10], Val Accuracy: 0.3340\n",
      "Epoch [4/10], Val Accuracy: 0.3685\n",
      "Epoch [5/10], Val Accuracy: 0.3740\n"
     ]
    },
    {
     "data": {
      "text/html": [],
      "text/plain": [
       "<IPython.core.display.HTML object>"
      ]
     },
     "metadata": {},
     "output_type": "display_data"
    },
    {
     "data": {
      "text/html": [
       "<br>    <style><br>        .wandb-row {<br>            display: flex;<br>            flex-direction: row;<br>            flex-wrap: wrap;<br>            justify-content: flex-start;<br>            width: 100%;<br>        }<br>        .wandb-col {<br>            display: flex;<br>            flex-direction: column;<br>            flex-basis: 100%;<br>            flex: 1;<br>            padding: 10px;<br>        }<br>    </style><br><div class=\"wandb-row\"><div class=\"wandb-col\"><h3>Run history:</h3><br/><table class=\"wandb\"><tr><td>epoch</td><td>▁▃▅▆█</td></tr><tr><td>train_loss</td><td>█▃▂▁▁</td></tr><tr><td>val_accuracy</td><td>▁▄▆██</td></tr><tr><td>val_loss</td><td>█▄▃▂▁</td></tr></table><br/></div><div class=\"wandb-col\"><h3>Run summary:</h3><br/><table class=\"wandb\"><tr><td>epoch</td><td>5</td></tr><tr><td>train_loss</td><td>0.43084</td></tr><tr><td>val_accuracy</td><td>0.37396</td></tr><tr><td>val_loss</td><td>1.06192</td></tr></table><br/></div></div>"
      ],
      "text/plain": [
       "<IPython.core.display.HTML object>"
      ]
     },
     "metadata": {},
     "output_type": "display_data"
    },
    {
     "data": {
      "text/html": [
       " View run <strong style=\"color:#cdcd00\">emb128_hid256_enc2_dec3_drop0.3_LSTM_beam3</strong> at: <a href='https://wandb.ai/ma24m025-indian-institute-of-technology-madras/dakshina-seq2seq-attn/runs/6dcvolmr' target=\"_blank\">https://wandb.ai/ma24m025-indian-institute-of-technology-madras/dakshina-seq2seq-attn/runs/6dcvolmr</a><br> View project at: <a href='https://wandb.ai/ma24m025-indian-institute-of-technology-madras/dakshina-seq2seq-attn' target=\"_blank\">https://wandb.ai/ma24m025-indian-institute-of-technology-madras/dakshina-seq2seq-attn</a><br>Synced 5 W&B file(s), 0 media file(s), 0 artifact file(s) and 1 other file(s)"
      ],
      "text/plain": [
       "<IPython.core.display.HTML object>"
      ]
     },
     "metadata": {},
     "output_type": "display_data"
    },
    {
     "data": {
      "text/html": [
       "Find logs at: <code>./wandb/run-20250518_141015-6dcvolmr/logs</code>"
      ],
      "text/plain": [
       "<IPython.core.display.HTML object>"
      ]
     },
     "metadata": {},
     "output_type": "display_data"
    }
   ],
   "source": [
    "# Sweep Config\n",
    "sweep_config = {\n",
    "    'method': \"bayes\",\n",
    "    'metric': {'name': 'val_accuracy', 'goal': 'maximize'},\n",
    "    'early_terminate': {'type': \"hyperband\", 'min_iter': 3},\n",
    "    'parameters': {\n",
    "        'emb_dim': {'values': [16, 32, 64, 128, 256]},\n",
    "        'hidden_dim': {'values': [16, 32, 64, 128, 256]},\n",
    "        'encoder_layers': {'values': [1, 2, 3]},\n",
    "        'decoder_layers': {'values': [1, 2, 3]},\n",
    "        'dropout': {'values': [0.2, 0.3]},\n",
    "        'cell': {'values': ['RNN', 'GRU', 'LSTM']},\n",
    "        'beam_size': {'values': [1, 3, 5]}\n",
    "    }\n",
    "}\n",
    "\n",
    "if __name__ == '__main__':\n",
    "    sweep_id = wandb.sweep(sweep_config, project=\"dakshina-seq2seq-attn\")\n",
    "    wandb.agent(sweep_id, function=main, count=19)\n",
    "\n"
   ]
  },
  {
   "cell_type": "markdown",
   "metadata": {},
   "source": [
    "# 9. Load Best Model and Evaluate on Test Set & Save Predictions\n",
    "\n",
    "### Load the best model from sweep, evaluate on test set,\n",
    "### generate sample predictions, and save them to CSV file."
   ]
  },
  {
   "cell_type": "code",
   "execution_count": 11,
   "metadata": {
    "execution": {
     "iopub.execute_input": "2025-05-19T19:34:51.507503Z",
     "iopub.status.busy": "2025-05-19T19:34:51.506953Z",
     "iopub.status.idle": "2025-05-19T19:34:51.664931Z",
     "shell.execute_reply": "2025-05-19T19:34:51.658728Z",
     "shell.execute_reply.started": "2025-05-19T19:34:51.507472Z"
    },
    "trusted": true
   },
   "outputs": [
    {
     "name": "stderr",
     "output_type": "stream",
     "text": [
      "\u001b[34m\u001b[1mwandb\u001b[0m: Sorting runs by -summary_metrics.val_accuracy\n"
     ]
    },
    {
     "name": "stdout",
     "output_type": "stream",
     "text": [
      "Best Run ID: e2cfbjb8\n",
      "Best Validation Accuracy: 0.3915\n",
      "Best Hyperparameters:\n",
      "{'cell': 'LSTM', 'dropout': 0.2, 'emb_dim': 128, 'beam_size': 3, 'hidden_dim': 256, 'decoder_layers': 3, 'encoder_layers': 2}\n"
     ]
    }
   ],
   "source": [
    "# Initialize API\n",
    "api = wandb.Api()\n",
    "# Sweep path\n",
    "sweep_path = f\"ma24m025-indian-institute-of-technology-madras/dakshina-seq2seq-attn/sweeps/6qdndkb6\" #{sweep_id}\"\n",
    "# sweep_path = \"your_username/dakshina-seq2seq/sweeps/your_sweep_id\" \n",
    "\n",
    "# Get best run & Corrosponding config\n",
    "sweep = api.sweep(sweep_path)\n",
    "best_run = sweep.best_run(order='val_accuracy')\n",
    "best_config = best_run.config\n",
    "\n",
    "# Print all details\n",
    "print(f\"Best Run ID: {best_run.id}\")\n",
    "print(f\"Best Validation Accuracy: {best_run.summary['val_accuracy']:.4f}\")\n",
    "print(\"Best Hyperparameters:\")\n",
    "print(best_config)"
   ]
  },
  {
   "cell_type": "code",
   "execution_count": 12,
   "metadata": {
    "execution": {
     "iopub.execute_input": "2025-05-19T19:34:58.808052Z",
     "iopub.status.busy": "2025-05-19T19:34:58.807775Z",
     "iopub.status.idle": "2025-05-19T19:57:21.686221Z",
     "shell.execute_reply": "2025-05-19T19:57:21.680300Z",
     "shell.execute_reply.started": "2025-05-19T19:34:58.808028Z"
    },
    "trusted": true
   },
   "outputs": [
    {
     "name": "stdout",
     "output_type": "stream",
     "text": [
      "Test Accuracy (exact sequence match): 0.3804\n"
     ]
    }
   ],
   "source": [
    "# Initialize the model architecture with the best run's hyperparameters\n",
    "best_model = Seq2Seq(\n",
    "    input_size=INPUT_DIM,\n",
    "    output_size=OUTPUT_DIM,\n",
    "    embed_size=best_config['emb_dim'],\n",
    "    hidden_size=best_config['hidden_dim'],\n",
    "    enc_layers=best_config['encoder_layers'],\n",
    "    dec_layers=best_config['decoder_layers'],\n",
    "    dropout=best_config['dropout'],\n",
    "    cell=best_config['cell'].lower()\n",
    ").to(device)\n",
    "\n",
    "# Use best hyperparams & load best model weights\n",
    "model_file_name = f\"model_{best_run.id}.pth\"\n",
    "best_model_file = best_run.file(model_file_name)\n",
    "best_model_file.download(replace=True)\n",
    "\n",
    "# Load the state dict\n",
    "best_model.load_state_dict(\n",
    "    torch.load(model_file_name, map_location=device)\n",
    ")\n",
    "\n",
    "# Print best test accuracy\n",
    "best_model.eval()\n",
    "test_acc = sequence_accuracy(best_model, test_loader, target_idx2char, device)\n",
    "print(f\"Test Accuracy (exact sequence match): {test_acc:.4f}\")\n"
   ]
  },
  {
   "cell_type": "markdown",
   "metadata": {},
   "source": [
    "### Display the prediction and save to csv file "
   ]
  },
  {
   "cell_type": "code",
   "execution_count": 13,
   "metadata": {
    "execution": {
     "iopub.execute_input": "2025-05-19T19:59:06.710624Z",
     "iopub.status.busy": "2025-05-19T19:59:06.710275Z",
     "iopub.status.idle": "2025-05-19T20:22:44.446779Z",
     "shell.execute_reply": "2025-05-19T20:22:44.442005Z",
     "shell.execute_reply.started": "2025-05-19T19:59:06.710595Z"
    },
    "trusted": true
   },
   "outputs": [
    {
     "name": "stdout",
     "output_type": "stream",
     "text": [
      "Sample predictions saved to predictions_attension.csv\n"
     ]
    },
    {
     "data": {
      "text/html": [
       "<div>\n",
       "<style scoped>\n",
       "    .dataframe tbody tr th:only-of-type {\n",
       "        vertical-align: middle;\n",
       "    }\n",
       "\n",
       "    .dataframe tbody tr th {\n",
       "        vertical-align: top;\n",
       "    }\n",
       "\n",
       "    .dataframe thead th {\n",
       "        text-align: right;\n",
       "    }\n",
       "</style>\n",
       "<table border=\"1\" class=\"dataframe\">\n",
       "  <thead>\n",
       "    <tr style=\"text-align: right;\">\n",
       "      <th></th>\n",
       "      <th>Input_Latin</th>\n",
       "      <th>Target_Bengali</th>\n",
       "      <th>Predicted_Bengali</th>\n",
       "    </tr>\n",
       "  </thead>\n",
       "  <tbody>\n",
       "    <tr>\n",
       "      <th>1183</th>\n",
       "      <td>upostheeti</td>\n",
       "      <td>উপস্থিতি</td>\n",
       "      <td>উপস্থিতি</td>\n",
       "    </tr>\n",
       "    <tr>\n",
       "      <th>1038</th>\n",
       "      <td>ilinaye</td>\n",
       "      <td>ইলিনয়ে</td>\n",
       "      <td>ইলিনে</td>\n",
       "    </tr>\n",
       "    <tr>\n",
       "      <th>9217</th>\n",
       "      <td>harison</td>\n",
       "      <td>হ্যারিসন</td>\n",
       "      <td>হারিসন</td>\n",
       "    </tr>\n",
       "    <tr>\n",
       "      <th>908</th>\n",
       "      <td>asorti</td>\n",
       "      <td>আসরটি</td>\n",
       "      <td>অসর্তি</td>\n",
       "    </tr>\n",
       "    <tr>\n",
       "      <th>8492</th>\n",
       "      <td>simitovabe</td>\n",
       "      <td>সীমিতভাবে</td>\n",
       "      <td>সিমিতভাবে</td>\n",
       "    </tr>\n",
       "    <tr>\n",
       "      <th>1864</th>\n",
       "      <td>kishtir</td>\n",
       "      <td>কিস্তির</td>\n",
       "      <td>কিষ্টির</td>\n",
       "    </tr>\n",
       "    <tr>\n",
       "      <th>76</th>\n",
       "      <td>ojontar</td>\n",
       "      <td>অজন্তার</td>\n",
       "      <td>অযন্তর</td>\n",
       "    </tr>\n",
       "    <tr>\n",
       "      <th>4581</th>\n",
       "      <td>ponjeekaa</td>\n",
       "      <td>পঞ্জিকা</td>\n",
       "      <td>পঞ্জিকা</td>\n",
       "    </tr>\n",
       "    <tr>\n",
       "      <th>620</th>\n",
       "      <td>ipla</td>\n",
       "      <td>আইপিএলে</td>\n",
       "      <td>ইপ্ল</td>\n",
       "    </tr>\n",
       "    <tr>\n",
       "      <th>7205</th>\n",
       "      <td>roshidke</td>\n",
       "      <td>রশিদকে</td>\n",
       "      <td>রসিদকে</td>\n",
       "    </tr>\n",
       "  </tbody>\n",
       "</table>\n",
       "</div>"
      ],
      "text/plain": [
       "     Input_Latin Target_Bengali Predicted_Bengali\n",
       "1183  upostheeti       উপস্থিতি          উপস্থিতি\n",
       "1038     ilinaye        ইলিনয়ে             ইলিনে\n",
       "9217     harison       হ্যারিসন            হারিসন\n",
       "908       asorti          আসরটি            অসর্তি\n",
       "8492  simitovabe      সীমিতভাবে         সিমিতভাবে\n",
       "1864     kishtir        কিস্তির           কিষ্টির\n",
       "76       ojontar        অজন্তার            অযন্তর\n",
       "4581   ponjeekaa        পঞ্জিকা           পঞ্জিকা\n",
       "620         ipla        আইপিএলে              ইপ্ল\n",
       "7205    roshidke         রশিদকে            রসিদকে"
      ]
     },
     "metadata": {},
     "output_type": "display_data"
    }
   ],
   "source": [
    "# Decode Sequence\n",
    "def decode_sequence(seq, idx2char):\n",
    "    chars = []\n",
    "    for idx in seq:\n",
    "        if idx2char[idx] == '<eos>':\n",
    "            break\n",
    "        if idx2char[idx] not in ['<pad>', '<sos>']:\n",
    "            chars.append(idx2char[idx])\n",
    "    return ''.join(chars)\n",
    "\n",
    "samples = []\n",
    "best_model.eval()\n",
    "\n",
    "with torch.no_grad():\n",
    "    for i in range(len(test_dataset)):\n",
    "        src, trg = test_dataset[i]\n",
    "        src = src.unsqueeze(0).to(device)\n",
    "        trg = trg.unsqueeze(0).to(device)\n",
    "\n",
    "        outputs = best_model(src, trg, teacher_forcing_ratio=0)\n",
    "        preds = outputs.argmax(dim=2)\n",
    "\n",
    "        input_seq = decode_sequence(src[0].cpu().numpy(), input_idx2char)\n",
    "        target_seq = decode_sequence(trg[0].cpu().numpy(), target_idx2char)\n",
    "        pred_seq = decode_sequence(preds[0].cpu().numpy(), target_idx2char)\n",
    "\n",
    "        samples.append((input_seq, target_seq, pred_seq))\n",
    "\n",
    "df_samples = pd.DataFrame(samples, columns=['Input_Latin', 'Target_Bengali', 'Predicted_Bengali'])\n",
    "df_samples.to_csv(\"/kaggle/working/predictions_attention.csv\", index=False)\n",
    "print(\"Sample predictions saved to predictions_attension.csv\")\n",
    "\n",
    "# Show 10 random samples\n",
    "display.display(df_samples.sample(10))"
   ]
  },
  {
   "cell_type": "markdown",
   "metadata": {},
   "source": [
    "# 10.Attention Heatmap"
   ]
  },
  {
   "cell_type": "code",
   "execution_count": null,
   "metadata": {},
   "outputs": [],
   "source": [
    "# Ignore warning\n",
    "warnings.filterwarnings(\"ignore\")\n",
    "\n",
    "# Load Bengali font\n",
    "bengali_font = fm.FontProperties(fname='/kaggle/input/lohit-bn/Lohit-Bengali.ttf')\n",
    "\n",
    "# Function to check if text contains Bengali characters\n",
    "def contains_bengali(text):\n",
    "    return any('\\u0980' <= ch <= '\\u09FF' for ch in str(text))\n",
    "\n",
    "# Select 9 random indices from the test dataset\n",
    "random_indices = random.sample(range(len(test_dataset)), 9)\n",
    "\n",
    "# Plot 9 random examples in a 3x3 grid\n",
    "fig, axes = plt.subplots(3, 3, figsize=(15, 15))\n",
    "axes = axes.flatten()\n",
    "\n",
    "def get_attention_weights(model, src, max_len, device):\n",
    "    model.eval()\n",
    "    with torch.no_grad():\n",
    "        encoder_outputs, enc_hidden = model.encoder(src)\n",
    "        dec_hidden = adjust_hidden_state(enc_hidden, model.enc_layers, model.dec_layers, model.hidden_size, model.cell)\n",
    "        dec_input = torch.tensor([SOS_IDX], device=device)\n",
    "        attn_weights = []\n",
    "        for _ in range(max_len):\n",
    "            output, dec_hidden, attn = model.decoder(dec_input, dec_hidden, encoder_outputs)\n",
    "            attn_weights.append(attn.squeeze(0).cpu().numpy())\n",
    "            dec_input = output.argmax(1)\n",
    "            if dec_input.item() == EOS_IDX:\n",
    "                break\n",
    "        return np.array(attn_weights)\n",
    "\n",
    "for i, idx in enumerate(random_indices):\n",
    "    src, trg = test_dataset[idx]\n",
    "    src = src.unsqueeze(0).to(device)\n",
    "    input_seq = decode_sequence(src[0].cpu().numpy(), input_idx2char)\n",
    "    target_seq = decode_sequence(trg.cpu().numpy(), target_idx2char)\n",
    "    attn_weights = get_attention_weights(best_model, src, max_len=max_target_len, device=device)\n",
    "    \n",
    "    sns.heatmap(attn_weights[:, :len(input_seq)], \n",
    "                xticklabels=list(input_seq), \n",
    "                yticklabels=list(target_seq)[:attn_weights.shape[0]], \n",
    "                cmap='viridis', ax=axes[i])\n",
    "    \n",
    "    # Set font for Bengali ticks only\n",
    "    for label in axes[i].get_xticklabels() + axes[i].get_yticklabels():\n",
    "        if contains_bengali(label.get_text()):\n",
    "            label.set_fontproperties(bengali_font)\n",
    "        label.set_fontsize(12)\n",
    "\n",
    "plt.tight_layout()\n",
    "# Save the plot with full path in Kaggle working directory\n",
    "plt.savefig(\"/kaggle/working/heatmap_attension.png\", dpi=300, bbox_inches='tight')\n",
    "plt.show()\n"
   ]
  },
  {
   "cell_type": "markdown",
   "metadata": {},
   "source": [
    "# The End!\n",
    "#### Thank You"
   ]
  }
 ],
 "metadata": {
  "kaggle": {
   "accelerator": "tpu1vmV38",
   "dataSources": [
    {
     "datasetId": 7413986,
     "sourceId": 11805457,
     "sourceType": "datasetVersion"
    },
    {
     "datasetId": 7453953,
     "sourceId": 11862110,
     "sourceType": "datasetVersion"
    }
   ],
   "dockerImageVersionId": 31042,
   "isGpuEnabled": false,
   "isInternetEnabled": true,
   "language": "python",
   "sourceType": "notebook"
  },
  "kernelspec": {
   "display_name": "Python 3",
   "language": "python",
   "name": "python3"
  },
  "language_info": {
   "codemirror_mode": {
    "name": "ipython",
    "version": 3
   },
   "file_extension": ".py",
   "mimetype": "text/x-python",
   "name": "python",
   "nbconvert_exporter": "python",
   "pygments_lexer": "ipython3",
   "version": "3.10.17"
  }
 },
 "nbformat": 4,
 "nbformat_minor": 4
}
